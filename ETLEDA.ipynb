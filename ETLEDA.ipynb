{
 "cells": [
  {
   "cell_type": "markdown",
   "metadata": {},
   "source": [
    "# ETL y EDA PI2 TELECOMUNICACIONES\n",
    "\n",
    "#### Después de una revisión de los diferentes documentos propuestos se decide analizar la hoja de 'Accesos por tecnología por localidad' del libro internet.xlsx y el libro mapa_conectividad.xlsx"
   ]
  },
  {
   "cell_type": "markdown",
   "metadata": {},
   "source": [
    "## 1.1 ETL de 'Accesos por tecnología por localidad'\n",
    "* Cargamos las librerías a usar"
   ]
  },
  {
   "cell_type": "code",
   "execution_count": 1,
   "metadata": {},
   "outputs": [
    {
     "name": "stderr",
     "output_type": "stream",
     "text": [
      "/home/negoveron/.local/lib/python3.10/site-packages/matplotlib/projections/__init__.py:63: UserWarning: Unable to import Axes3D. This may be due to multiple versions of Matplotlib being installed (e.g. as a system package and as a pip package). As a result, the 3D projection is not available.\n",
      "  warnings.warn(\"Unable to import Axes3D. This may be due to multiple versions of \"\n"
     ]
    }
   ],
   "source": [
    "import numpy as np\n",
    "import pandas as pd\n",
    "\n",
    "import seaborn as sns\n",
    "import matplotlib.pyplot as plt"
   ]
  },
  {
   "cell_type": "markdown",
   "metadata": {},
   "source": [
    "* Cargamos los datos"
   ]
  },
  {
   "cell_type": "code",
   "execution_count": 3,
   "metadata": {},
   "outputs": [],
   "source": [
    "\n",
    "internet = pd.read_excel('Internet.xlsx', sheet_name='Accesos_tecnologia_localidad')"
   ]
  },
  {
   "cell_type": "markdown",
   "metadata": {},
   "source": [
    "* observamos numero de filas y columnas"
   ]
  },
  {
   "cell_type": "code",
   "execution_count": 4,
   "metadata": {},
   "outputs": [
    {
     "data": {
      "text/plain": [
       "(3352, 13)"
      ]
     },
     "execution_count": 4,
     "metadata": {},
     "output_type": "execute_result"
    }
   ],
   "source": [
    "\n",
    "internet.shape"
   ]
  },
  {
   "cell_type": "code",
   "execution_count": 5,
   "metadata": {},
   "outputs": [
    {
     "name": "stdout",
     "output_type": "stream",
     "text": [
      "<class 'pandas.core.frame.DataFrame'>\n",
      "RangeIndex: 3352 entries, 0 to 3351\n",
      "Data columns (total 13 columns):\n",
      " #   Column         Non-Null Count  Dtype \n",
      "---  ------         --------------  ----- \n",
      " 0   Provincia      3072 non-null   object\n",
      " 1   Partido        3072 non-null   object\n",
      " 2   Localidad      3072 non-null   object\n",
      " 3   Link Indec     3072 non-null   object\n",
      " 4   ADSL           3352 non-null   int64 \n",
      " 5   CABLEMODEM     3352 non-null   int64 \n",
      " 6   DIAL UP        3352 non-null   int64 \n",
      " 7   FIBRA OPTICA   3352 non-null   int64 \n",
      " 8   OTROS          3352 non-null   int64 \n",
      " 9   SATELITAL      3352 non-null   int64 \n",
      " 10  WIMAX          3352 non-null   int64 \n",
      " 11  WIRELESS       3352 non-null   int64 \n",
      " 12  Total general  3352 non-null   int64 \n",
      "dtypes: int64(9), object(4)\n",
      "memory usage: 340.6+ KB\n"
     ]
    }
   ],
   "source": [
    "internet.info()"
   ]
  },
  {
   "cell_type": "markdown",
   "metadata": {},
   "source": [
    "**_Se observa que hay valores faltantes en los datos geograficos y Link indec que lo llamaré código Indec_**\n",
    "\n",
    "**_Hay 3352 filas, codigo indec tiene 3072 no nulas, hay 280 de se deben analizar_**"
   ]
  },
  {
   "cell_type": "code",
   "execution_count": 10,
   "metadata": {},
   "outputs": [
    {
     "data": {
      "text/plain": [
       "(280, 13)"
      ]
     },
     "execution_count": 10,
     "metadata": {},
     "output_type": "execute_result"
    }
   ],
   "source": [
    "\n",
    "internet[(internet['Link Indec'].isnull()) & (internet['Total general'] == 0)].shape"
   ]
  },
  {
   "cell_type": "markdown",
   "metadata": {},
   "source": [
    "* Comprobamos que en esas filas donde link indec es null, hay 280 donde la suma de los diferentes servicios siempre es cero, se pueden eliminar.\n",
    "\n",
    "* Hacemos un sampleo y vemos siempre valores nulos"
   ]
  },
  {
   "cell_type": "code",
   "execution_count": null,
   "metadata": {},
   "outputs": [],
   "source": [
    "internet[(internet['Link Indec'].isnull())].sample(15)"
   ]
  },
  {
   "cell_type": "markdown",
   "metadata": {},
   "source": [
    "* Se eliminan las filas con codigo indec null y total general en cero"
   ]
  },
  {
   "cell_type": "code",
   "execution_count": 15,
   "metadata": {},
   "outputs": [
    {
     "data": {
      "text/plain": [
       "(3072, 13)"
      ]
     },
     "execution_count": 15,
     "metadata": {},
     "output_type": "execute_result"
    }
   ],
   "source": [
    "i = internet[(internet['Link Indec'].isnull()) & (internet['Total general'] == 0)].index\n",
    "internet.drop(i, inplace=True)\n",
    "internet.shape"
   ]
  },
  {
   "cell_type": "markdown",
   "metadata": {},
   "source": [
    "* Controlamos si quedan filas donde Total general es cero\n",
    "\n",
    "_No tiene sentido conservar, eliminamos_"
   ]
  },
  {
   "cell_type": "code",
   "execution_count": 16,
   "metadata": {},
   "outputs": [
    {
     "data": {
      "text/html": [
       "<div>\n",
       "<style scoped>\n",
       "    .dataframe tbody tr th:only-of-type {\n",
       "        vertical-align: middle;\n",
       "    }\n",
       "\n",
       "    .dataframe tbody tr th {\n",
       "        vertical-align: top;\n",
       "    }\n",
       "\n",
       "    .dataframe thead th {\n",
       "        text-align: right;\n",
       "    }\n",
       "</style>\n",
       "<table border=\"1\" class=\"dataframe\">\n",
       "  <thead>\n",
       "    <tr style=\"text-align: right;\">\n",
       "      <th></th>\n",
       "      <th>Provincia</th>\n",
       "      <th>Partido</th>\n",
       "      <th>Localidad</th>\n",
       "      <th>Link Indec</th>\n",
       "      <th>ADSL</th>\n",
       "      <th>CABLEMODEM</th>\n",
       "      <th>DIAL UP</th>\n",
       "      <th>FIBRA OPTICA</th>\n",
       "      <th>OTROS</th>\n",
       "      <th>SATELITAL</th>\n",
       "      <th>WIMAX</th>\n",
       "      <th>WIRELESS</th>\n",
       "      <th>Total general</th>\n",
       "    </tr>\n",
       "  </thead>\n",
       "  <tbody>\n",
       "    <tr>\n",
       "      <th>2101</th>\n",
       "      <td>NEUQUEN</td>\n",
       "      <td>Picunches</td>\n",
       "      <td>Bajada del Agrio</td>\n",
       "      <td>58105010</td>\n",
       "      <td>0</td>\n",
       "      <td>0</td>\n",
       "      <td>0</td>\n",
       "      <td>0</td>\n",
       "      <td>0</td>\n",
       "      <td>0</td>\n",
       "      <td>0</td>\n",
       "      <td>0</td>\n",
       "      <td>0</td>\n",
       "    </tr>\n",
       "    <tr>\n",
       "      <th>2251</th>\n",
       "      <td>SALTA</td>\n",
       "      <td>Grl. José de San Martín</td>\n",
       "      <td>Padre Lozano</td>\n",
       "      <td>66056180</td>\n",
       "      <td>0</td>\n",
       "      <td>0</td>\n",
       "      <td>0</td>\n",
       "      <td>0</td>\n",
       "      <td>0</td>\n",
       "      <td>0</td>\n",
       "      <td>0</td>\n",
       "      <td>0</td>\n",
       "      <td>0</td>\n",
       "    </tr>\n",
       "    <tr>\n",
       "      <th>2481</th>\n",
       "      <td>San Luis</td>\n",
       "      <td>Libertador Grl. San Martín</td>\n",
       "      <td>El Puesto</td>\n",
       "      <td>74063050</td>\n",
       "      <td>0</td>\n",
       "      <td>0</td>\n",
       "      <td>0</td>\n",
       "      <td>0</td>\n",
       "      <td>0</td>\n",
       "      <td>0</td>\n",
       "      <td>0</td>\n",
       "      <td>0</td>\n",
       "      <td>0</td>\n",
       "    </tr>\n",
       "    <tr>\n",
       "      <th>2537</th>\n",
       "      <td>SANTA FE</td>\n",
       "      <td>Castellanos</td>\n",
       "      <td>Bauer y Sigel</td>\n",
       "      <td>82021060</td>\n",
       "      <td>0</td>\n",
       "      <td>0</td>\n",
       "      <td>0</td>\n",
       "      <td>0</td>\n",
       "      <td>0</td>\n",
       "      <td>0</td>\n",
       "      <td>0</td>\n",
       "      <td>0</td>\n",
       "      <td>0</td>\n",
       "    </tr>\n",
       "    <tr>\n",
       "      <th>2833</th>\n",
       "      <td>SANTA FE</td>\n",
       "      <td>San Martín</td>\n",
       "      <td>Las Petacas</td>\n",
       "      <td>82126100</td>\n",
       "      <td>0</td>\n",
       "      <td>0</td>\n",
       "      <td>0</td>\n",
       "      <td>0</td>\n",
       "      <td>0</td>\n",
       "      <td>0</td>\n",
       "      <td>0</td>\n",
       "      <td>0</td>\n",
       "      <td>0</td>\n",
       "    </tr>\n",
       "  </tbody>\n",
       "</table>\n",
       "</div>"
      ],
      "text/plain": [
       "     Provincia                     Partido         Localidad Link Indec  ADSL  \\\n",
       "2101   NEUQUEN                   Picunches  Bajada del Agrio   58105010     0   \n",
       "2251     SALTA     Grl. José de San Martín      Padre Lozano   66056180     0   \n",
       "2481  San Luis  Libertador Grl. San Martín         El Puesto   74063050     0   \n",
       "2537  SANTA FE                 Castellanos     Bauer y Sigel   82021060     0   \n",
       "2833  SANTA FE                  San Martín       Las Petacas   82126100     0   \n",
       "\n",
       "      CABLEMODEM  DIAL UP  FIBRA OPTICA  OTROS  SATELITAL  WIMAX  WIRELESS  \\\n",
       "2101           0        0             0      0          0      0         0   \n",
       "2251           0        0             0      0          0      0         0   \n",
       "2481           0        0             0      0          0      0         0   \n",
       "2537           0        0             0      0          0      0         0   \n",
       "2833           0        0             0      0          0      0         0   \n",
       "\n",
       "      Total general  \n",
       "2101              0  \n",
       "2251              0  \n",
       "2481              0  \n",
       "2537              0  \n",
       "2833              0  "
      ]
     },
     "execution_count": 16,
     "metadata": {},
     "output_type": "execute_result"
    }
   ],
   "source": [
    "\n",
    "internet[(internet['Total general'] == 0)]"
   ]
  },
  {
   "cell_type": "code",
   "execution_count": 17,
   "metadata": {},
   "outputs": [
    {
     "data": {
      "text/plain": [
       "(3067, 13)"
      ]
     },
     "execution_count": 17,
     "metadata": {},
     "output_type": "execute_result"
    }
   ],
   "source": [
    "\n",
    "internet = internet[(internet['Total general'] != 0)]\n",
    "internet.shape"
   ]
  },
  {
   "cell_type": "markdown",
   "metadata": {},
   "source": [
    "* Evalúo si tengo codigos de indec repetidos"
   ]
  },
  {
   "cell_type": "code",
   "execution_count": 18,
   "metadata": {},
   "outputs": [
    {
     "name": "stdout",
     "output_type": "stream",
     "text": [
      "Codigos de indec distintos: 2667\n"
     ]
    }
   ],
   "source": [
    "\n",
    "print(f\"Codigos de indec distintos: {internet['Link Indec'].nunique()}\")\n"
   ]
  },
  {
   "cell_type": "code",
   "execution_count": 10,
   "metadata": {},
   "outputs": [
    {
     "data": {
      "text/plain": [
       "count          3067\n",
       "unique         2667\n",
       "top       Sin Datos\n",
       "freq             70\n",
       "Name: Link Indec, dtype: object"
      ]
     },
     "execution_count": 10,
     "metadata": {},
     "output_type": "execute_result"
    }
   ],
   "source": [
    "internet['Link Indec'].describe()"
   ]
  },
  {
   "cell_type": "code",
   "execution_count": 22,
   "metadata": {},
   "outputs": [
    {
     "data": {
      "text/plain": [
       "Link Indec\n",
       "Sin Datos    70\n",
       "6441030      27\n",
       "6371010      27\n",
       "6427010      15\n",
       "6840010      15\n",
       "             ..\n",
       "14140080      1\n",
       "14140090      1\n",
       "14140110      1\n",
       "14140160      1\n",
       "90119030      1\n",
       "Name: count, Length: 2667, dtype: int64"
      ]
     },
     "execution_count": 22,
     "metadata": {},
     "output_type": "execute_result"
    }
   ],
   "source": [
    "internet['Link Indec'].value_counts()"
   ]
  },
  {
   "cell_type": "code",
   "execution_count": null,
   "metadata": {},
   "outputs": [],
   "source": [
    "#internet[internet['Link Indec'] == 'Sin Datos']\n",
    "internet[internet['Link Indec'] == 6441030]"
   ]
  },
  {
   "cell_type": "markdown",
   "metadata": {},
   "source": [
    "**_Se observa que hay muchas ubicaciones, 70 en total, que no tienen codigo indec_**\n",
    "\n",
    "**_Tambien hay muchas localidades que comparten el codigo indec, son al menos 330_**\n",
    "\n",
    "#### No se puede usar codigo indec como clave!!!"
   ]
  },
  {
   "cell_type": "markdown",
   "metadata": {},
   "source": [
    "## 1.2 Evalúo utilizar los datos geográficos como clave"
   ]
  },
  {
   "cell_type": "markdown",
   "metadata": {},
   "source": [
    "* Estudio Provincia, Partido, Localidad"
   ]
  },
  {
   "cell_type": "code",
   "execution_count": 42,
   "metadata": {},
   "outputs": [
    {
     "data": {
      "text/plain": [
       "False    3067\n",
       "Name: count, dtype: int64"
      ]
     },
     "execution_count": 42,
     "metadata": {},
     "output_type": "execute_result"
    }
   ],
   "source": [
    "\n",
    "internet[['Provincia','Partido','Localidad']].duplicated().value_counts()\n"
   ]
  },
  {
   "cell_type": "markdown",
   "metadata": {},
   "source": [
    "**_No hay duplicados_**"
   ]
  },
  {
   "cell_type": "code",
   "execution_count": 19,
   "metadata": {},
   "outputs": [
    {
     "name": "stdout",
     "output_type": "stream",
     "text": [
      "<class 'pandas.core.frame.DataFrame'>\n",
      "Index: 3067 entries, 0 to 3071\n",
      "Data columns (total 13 columns):\n",
      " #   Column         Non-Null Count  Dtype \n",
      "---  ------         --------------  ----- \n",
      " 0   Provincia      3067 non-null   object\n",
      " 1   Partido        3067 non-null   object\n",
      " 2   Localidad      3067 non-null   object\n",
      " 3   Link Indec     3067 non-null   object\n",
      " 4   ADSL           3067 non-null   int64 \n",
      " 5   CABLEMODEM     3067 non-null   int64 \n",
      " 6   DIAL UP        3067 non-null   int64 \n",
      " 7   FIBRA OPTICA   3067 non-null   int64 \n",
      " 8   OTROS          3067 non-null   int64 \n",
      " 9   SATELITAL      3067 non-null   int64 \n",
      " 10  WIMAX          3067 non-null   int64 \n",
      " 11  WIRELESS       3067 non-null   int64 \n",
      " 12  Total general  3067 non-null   int64 \n",
      "dtypes: int64(9), object(4)\n",
      "memory usage: 335.5+ KB\n"
     ]
    }
   ],
   "source": [
    "internet.info()"
   ]
  },
  {
   "cell_type": "code",
   "execution_count": 20,
   "metadata": {},
   "outputs": [],
   "source": [
    "internet.drop(columns=['Link Indec','Total general'],inplace=True)"
   ]
  },
  {
   "cell_type": "markdown",
   "metadata": {},
   "source": [
    "* Elimino columnas que no voy a utilizar, Total General podria recrearlo si lo necesito"
   ]
  },
  {
   "cell_type": "markdown",
   "metadata": {},
   "source": [
    "* Convierto en mayusculas los campos que voy a usar como clave"
   ]
  },
  {
   "cell_type": "code",
   "execution_count": 21,
   "metadata": {},
   "outputs": [],
   "source": [
    "internet['Provincia'] = internet['Provincia'].str.upper()\n",
    "internet['Partido'] = internet['Partido'].str.upper()\n",
    "internet['Localidad'] = internet['Localidad'].str.upper()"
   ]
  },
  {
   "cell_type": "markdown",
   "metadata": {},
   "source": [
    "* Normalizo algunos nombres columnas"
   ]
  },
  {
   "cell_type": "code",
   "execution_count": 22,
   "metadata": {},
   "outputs": [],
   "source": [
    "internet.rename(columns={'Provincia':'PROVINCIA','Partido':'PARTIDO','Localidad':'LOCALIDAD','DIAL UP':'DIAL_UP', 'FIBRA OPTICA': 'FIBRA_OPTICA'},inplace=True)"
   ]
  },
  {
   "cell_type": "code",
   "execution_count": 23,
   "metadata": {},
   "outputs": [
    {
     "data": {
      "text/html": [
       "<div>\n",
       "<style scoped>\n",
       "    .dataframe tbody tr th:only-of-type {\n",
       "        vertical-align: middle;\n",
       "    }\n",
       "\n",
       "    .dataframe tbody tr th {\n",
       "        vertical-align: top;\n",
       "    }\n",
       "\n",
       "    .dataframe thead th {\n",
       "        text-align: right;\n",
       "    }\n",
       "</style>\n",
       "<table border=\"1\" class=\"dataframe\">\n",
       "  <thead>\n",
       "    <tr style=\"text-align: right;\">\n",
       "      <th></th>\n",
       "      <th>PARTIDO</th>\n",
       "      <th>LOCALIDAD</th>\n",
       "    </tr>\n",
       "  </thead>\n",
       "  <tbody>\n",
       "    <tr>\n",
       "      <th>715</th>\n",
       "      <td>CIUDAD AUTÓNOMA DE BUENOS AIRES</td>\n",
       "      <td>CIUDAD AUTÓNOMA DE BUENOS AIRES</td>\n",
       "    </tr>\n",
       "  </tbody>\n",
       "</table>\n",
       "</div>"
      ],
      "text/plain": [
       "                             PARTIDO                        LOCALIDAD\n",
       "715  CIUDAD AUTÓNOMA DE BUENOS AIRES  CIUDAD AUTÓNOMA DE BUENOS AIRES"
      ]
     },
     "execution_count": 23,
     "metadata": {},
     "output_type": "execute_result"
    }
   ],
   "source": [
    "internet[internet['PROVINCIA'] == 'CABA'][['PARTIDO','LOCALIDAD']]"
   ]
  },
  {
   "cell_type": "markdown",
   "metadata": {},
   "source": [
    "**_Observamos que CABA no esta divido por partidos y localidades, está agrupado en 'Ciudad Autónoma de Buenos Aires'. para facilitar el merge actualizaremos los valores con la comuna y barrio mas poblado 'COMUNA 14', 'PALERMO'_**"
   ]
  },
  {
   "cell_type": "code",
   "execution_count": 26,
   "metadata": {},
   "outputs": [],
   "source": [
    "\n",
    "internet.loc[internet['PARTIDO'] == 'CIUDAD AUTÓNOMA DE BUENOS AIRES', 'PARTIDO'] = 'COMUNA 14'\n",
    "internet.loc[internet['LOCALIDAD'] == 'CIUDAD AUTÓNOMA DE BUENOS AIRES', 'LOCALIDAD'] = 'PALERMO'\n"
   ]
  },
  {
   "cell_type": "code",
   "execution_count": 27,
   "metadata": {},
   "outputs": [
    {
     "data": {
      "text/html": [
       "<div>\n",
       "<style scoped>\n",
       "    .dataframe tbody tr th:only-of-type {\n",
       "        vertical-align: middle;\n",
       "    }\n",
       "\n",
       "    .dataframe tbody tr th {\n",
       "        vertical-align: top;\n",
       "    }\n",
       "\n",
       "    .dataframe thead th {\n",
       "        text-align: right;\n",
       "    }\n",
       "</style>\n",
       "<table border=\"1\" class=\"dataframe\">\n",
       "  <thead>\n",
       "    <tr style=\"text-align: right;\">\n",
       "      <th></th>\n",
       "      <th>PROVINCIA</th>\n",
       "      <th>PARTIDO</th>\n",
       "      <th>LOCALIDAD</th>\n",
       "    </tr>\n",
       "  </thead>\n",
       "  <tbody>\n",
       "    <tr>\n",
       "      <th>715</th>\n",
       "      <td>CABA</td>\n",
       "      <td>COMUNA 14</td>\n",
       "      <td>PALERMO</td>\n",
       "    </tr>\n",
       "  </tbody>\n",
       "</table>\n",
       "</div>"
      ],
      "text/plain": [
       "    PROVINCIA    PARTIDO LOCALIDAD\n",
       "715      CABA  COMUNA 14   PALERMO"
      ]
     },
     "execution_count": 27,
     "metadata": {},
     "output_type": "execute_result"
    }
   ],
   "source": [
    "internet[internet['PROVINCIA'] == 'CABA'][['PROVINCIA','PARTIDO','LOCALIDAD']]"
   ]
  },
  {
   "cell_type": "markdown",
   "metadata": {},
   "source": [
    "Guardar como csv"
   ]
  },
  {
   "cell_type": "code",
   "execution_count": 28,
   "metadata": {},
   "outputs": [],
   "source": [
    "\n",
    "internet.to_csv(r'internet_depurado.csv',index=False)"
   ]
  },
  {
   "cell_type": "markdown",
   "metadata": {},
   "source": [
    "## 1.3 ETL de mapa de conectividad"
   ]
  },
  {
   "cell_type": "markdown",
   "metadata": {},
   "source": [
    "*  Cargamos los datos"
   ]
  },
  {
   "cell_type": "code",
   "execution_count": 30,
   "metadata": {},
   "outputs": [
    {
     "data": {
      "text/html": [
       "<div>\n",
       "<style scoped>\n",
       "    .dataframe tbody tr th:only-of-type {\n",
       "        vertical-align: middle;\n",
       "    }\n",
       "\n",
       "    .dataframe tbody tr th {\n",
       "        vertical-align: top;\n",
       "    }\n",
       "\n",
       "    .dataframe thead th {\n",
       "        text-align: right;\n",
       "    }\n",
       "</style>\n",
       "<table border=\"1\" class=\"dataframe\">\n",
       "  <thead>\n",
       "    <tr style=\"text-align: right;\">\n",
       "      <th></th>\n",
       "      <th>Provincia</th>\n",
       "      <th>Partido</th>\n",
       "      <th>Localidad</th>\n",
       "      <th>Población</th>\n",
       "      <th>ADSL</th>\n",
       "      <th>Cablemódem</th>\n",
       "      <th>Dial Up</th>\n",
       "      <th>Fibra óptica</th>\n",
       "      <th>Satelital</th>\n",
       "      <th>Wireless</th>\n",
       "      <th>Telefonía Fija</th>\n",
       "      <th>3G</th>\n",
       "      <th>4G</th>\n",
       "      <th>Link</th>\n",
       "      <th>Latitud</th>\n",
       "      <th>Longitud</th>\n",
       "    </tr>\n",
       "  </thead>\n",
       "  <tbody>\n",
       "    <tr>\n",
       "      <th>0</th>\n",
       "      <td>BUENOS AIRES</td>\n",
       "      <td>25 de Mayo</td>\n",
       "      <td>25 de Mayo</td>\n",
       "      <td>23408</td>\n",
       "      <td>SI</td>\n",
       "      <td>SI</td>\n",
       "      <td>--</td>\n",
       "      <td>--</td>\n",
       "      <td>SI</td>\n",
       "      <td>SI</td>\n",
       "      <td>SI</td>\n",
       "      <td>SI</td>\n",
       "      <td>SI</td>\n",
       "      <td>6854100.0</td>\n",
       "      <td>-35.433939</td>\n",
       "      <td>-60.173121</td>\n",
       "    </tr>\n",
       "    <tr>\n",
       "      <th>1</th>\n",
       "      <td>BUENOS AIRES</td>\n",
       "      <td>25 de Mayo</td>\n",
       "      <td>Agustín Mosconi</td>\n",
       "      <td>280</td>\n",
       "      <td>--</td>\n",
       "      <td>--</td>\n",
       "      <td>--</td>\n",
       "      <td>--</td>\n",
       "      <td>--</td>\n",
       "      <td>--</td>\n",
       "      <td>SI</td>\n",
       "      <td>--</td>\n",
       "      <td>--</td>\n",
       "      <td>6854010.0</td>\n",
       "      <td>-35.739217</td>\n",
       "      <td>-60.559063</td>\n",
       "    </tr>\n",
       "    <tr>\n",
       "      <th>2</th>\n",
       "      <td>BUENOS AIRES</td>\n",
       "      <td>25 de Mayo</td>\n",
       "      <td>Del Valle</td>\n",
       "      <td>899</td>\n",
       "      <td>SI</td>\n",
       "      <td>--</td>\n",
       "      <td>--</td>\n",
       "      <td>--</td>\n",
       "      <td>SI</td>\n",
       "      <td>--</td>\n",
       "      <td>--</td>\n",
       "      <td>SI</td>\n",
       "      <td>--</td>\n",
       "      <td>6854020.0</td>\n",
       "      <td>-35.897345</td>\n",
       "      <td>-60.731609</td>\n",
       "    </tr>\n",
       "    <tr>\n",
       "      <th>3</th>\n",
       "      <td>BUENOS AIRES</td>\n",
       "      <td>25 de Mayo</td>\n",
       "      <td>Ernestina</td>\n",
       "      <td>145</td>\n",
       "      <td>SI</td>\n",
       "      <td>--</td>\n",
       "      <td>--</td>\n",
       "      <td>--</td>\n",
       "      <td>--</td>\n",
       "      <td>--</td>\n",
       "      <td>SI</td>\n",
       "      <td>--</td>\n",
       "      <td>--</td>\n",
       "      <td>6854030.0</td>\n",
       "      <td>-35.270234</td>\n",
       "      <td>-59.557503</td>\n",
       "    </tr>\n",
       "    <tr>\n",
       "      <th>4</th>\n",
       "      <td>BUENOS AIRES</td>\n",
       "      <td>25 de Mayo</td>\n",
       "      <td>Gobernador Ugarte</td>\n",
       "      <td>547</td>\n",
       "      <td>--</td>\n",
       "      <td>--</td>\n",
       "      <td>--</td>\n",
       "      <td>--</td>\n",
       "      <td>--</td>\n",
       "      <td>SI</td>\n",
       "      <td>--</td>\n",
       "      <td>--</td>\n",
       "      <td>--</td>\n",
       "      <td>6854040.0</td>\n",
       "      <td>-35.164397</td>\n",
       "      <td>-60.081358</td>\n",
       "    </tr>\n",
       "  </tbody>\n",
       "</table>\n",
       "</div>"
      ],
      "text/plain": [
       "      Provincia     Partido          Localidad  Población ADSL Cablemódem  \\\n",
       "0  BUENOS AIRES  25 de Mayo         25 de Mayo      23408   SI         SI   \n",
       "1  BUENOS AIRES  25 de Mayo    Agustín Mosconi        280   --         --   \n",
       "2  BUENOS AIRES  25 de Mayo          Del Valle        899   SI         --   \n",
       "3  BUENOS AIRES  25 de Mayo          Ernestina        145   SI         --   \n",
       "4  BUENOS AIRES  25 de Mayo  Gobernador Ugarte        547   --         --   \n",
       "\n",
       "  Dial Up Fibra óptica Satelital Wireless Telefonía Fija  3G  4G       Link  \\\n",
       "0      --           --        SI       SI             SI  SI  SI  6854100.0   \n",
       "1      --           --        --       --             SI  --  --  6854010.0   \n",
       "2      --           --        SI       --             --  SI  --  6854020.0   \n",
       "3      --           --        --       --             SI  --  --  6854030.0   \n",
       "4      --           --        --       SI             --  --  --  6854040.0   \n",
       "\n",
       "     Latitud   Longitud  \n",
       "0 -35.433939 -60.173121  \n",
       "1 -35.739217 -60.559063  \n",
       "2 -35.897345 -60.731609  \n",
       "3 -35.270234 -59.557503  \n",
       "4 -35.164397 -60.081358  "
      ]
     },
     "execution_count": 30,
     "metadata": {},
     "output_type": "execute_result"
    }
   ],
   "source": [
    "\n",
    "\n",
    "mapa = pd.read_excel('pruebas/mapa_conectividad.xlsx')\n",
    "mapa.head(5)\n"
   ]
  },
  {
   "cell_type": "code",
   "execution_count": 48,
   "metadata": {},
   "outputs": [
    {
     "data": {
      "text/plain": [
       "(4305, 16)"
      ]
     },
     "execution_count": 48,
     "metadata": {},
     "output_type": "execute_result"
    }
   ],
   "source": [
    "mapa.shape"
   ]
  },
  {
   "cell_type": "code",
   "execution_count": 49,
   "metadata": {},
   "outputs": [
    {
     "name": "stdout",
     "output_type": "stream",
     "text": [
      "<class 'pandas.core.frame.DataFrame'>\n",
      "RangeIndex: 4305 entries, 0 to 4304\n",
      "Data columns (total 16 columns):\n",
      " #   Column          Non-Null Count  Dtype  \n",
      "---  ------          --------------  -----  \n",
      " 0   Provincia       4305 non-null   object \n",
      " 1   Partido         4305 non-null   object \n",
      " 2   Localidad       4305 non-null   object \n",
      " 3   Población       4305 non-null   int64  \n",
      " 4   ADSL            4305 non-null   object \n",
      " 5   Cablemódem      4305 non-null   object \n",
      " 6   Dial Up         4305 non-null   object \n",
      " 7   Fibra óptica    4305 non-null   object \n",
      " 8   Satelital       4305 non-null   object \n",
      " 9   Wireless        4305 non-null   object \n",
      " 10  Telefonía Fija  4305 non-null   object \n",
      " 11  3G              4305 non-null   object \n",
      " 12  4G              4305 non-null   object \n",
      " 13  Link            4293 non-null   float64\n",
      " 14  Latitud         4305 non-null   float64\n",
      " 15  Longitud        4305 non-null   float64\n",
      "dtypes: float64(3), int64(1), object(12)\n",
      "memory usage: 538.2+ KB\n"
     ]
    }
   ],
   "source": [
    "mapa.info()"
   ]
  },
  {
   "cell_type": "markdown",
   "metadata": {},
   "source": [
    "**_Como se observa, solo la columna link tiene nulos, se descartará dicha columna_**"
   ]
  },
  {
   "cell_type": "code",
   "execution_count": 31,
   "metadata": {},
   "outputs": [],
   "source": [
    "mapa.drop(columns='Link', inplace=True)"
   ]
  },
  {
   "cell_type": "markdown",
   "metadata": {},
   "source": [
    "* Se convertiran en booleanas las columnas ADSL, Cablemódem, Dial Up,Fibra óptica, Satelital, Wireless, Telefonía Fija, 3G y 4G            "
   ]
  },
  {
   "cell_type": "code",
   "execution_count": 32,
   "metadata": {},
   "outputs": [
    {
     "data": {
      "text/html": [
       "<div>\n",
       "<style scoped>\n",
       "    .dataframe tbody tr th:only-of-type {\n",
       "        vertical-align: middle;\n",
       "    }\n",
       "\n",
       "    .dataframe tbody tr th {\n",
       "        vertical-align: top;\n",
       "    }\n",
       "\n",
       "    .dataframe thead th {\n",
       "        text-align: right;\n",
       "    }\n",
       "</style>\n",
       "<table border=\"1\" class=\"dataframe\">\n",
       "  <thead>\n",
       "    <tr style=\"text-align: right;\">\n",
       "      <th></th>\n",
       "      <th>Provincia</th>\n",
       "      <th>Partido</th>\n",
       "      <th>Localidad</th>\n",
       "      <th>Población</th>\n",
       "      <th>ADSL</th>\n",
       "      <th>Cablemódem</th>\n",
       "      <th>Dial Up</th>\n",
       "      <th>Fibra óptica</th>\n",
       "      <th>Satelital</th>\n",
       "      <th>Wireless</th>\n",
       "      <th>Telefonía Fija</th>\n",
       "      <th>3G</th>\n",
       "      <th>4G</th>\n",
       "      <th>Latitud</th>\n",
       "      <th>Longitud</th>\n",
       "    </tr>\n",
       "  </thead>\n",
       "  <tbody>\n",
       "    <tr>\n",
       "      <th>0</th>\n",
       "      <td>BUENOS AIRES</td>\n",
       "      <td>25 de Mayo</td>\n",
       "      <td>25 de Mayo</td>\n",
       "      <td>23408</td>\n",
       "      <td>True</td>\n",
       "      <td>True</td>\n",
       "      <td>False</td>\n",
       "      <td>False</td>\n",
       "      <td>True</td>\n",
       "      <td>True</td>\n",
       "      <td>True</td>\n",
       "      <td>True</td>\n",
       "      <td>True</td>\n",
       "      <td>-35.433939</td>\n",
       "      <td>-60.173121</td>\n",
       "    </tr>\n",
       "    <tr>\n",
       "      <th>1</th>\n",
       "      <td>BUENOS AIRES</td>\n",
       "      <td>25 de Mayo</td>\n",
       "      <td>Agustín Mosconi</td>\n",
       "      <td>280</td>\n",
       "      <td>False</td>\n",
       "      <td>False</td>\n",
       "      <td>False</td>\n",
       "      <td>False</td>\n",
       "      <td>False</td>\n",
       "      <td>False</td>\n",
       "      <td>True</td>\n",
       "      <td>False</td>\n",
       "      <td>False</td>\n",
       "      <td>-35.739217</td>\n",
       "      <td>-60.559063</td>\n",
       "    </tr>\n",
       "    <tr>\n",
       "      <th>2</th>\n",
       "      <td>BUENOS AIRES</td>\n",
       "      <td>25 de Mayo</td>\n",
       "      <td>Del Valle</td>\n",
       "      <td>899</td>\n",
       "      <td>True</td>\n",
       "      <td>False</td>\n",
       "      <td>False</td>\n",
       "      <td>False</td>\n",
       "      <td>True</td>\n",
       "      <td>False</td>\n",
       "      <td>False</td>\n",
       "      <td>True</td>\n",
       "      <td>False</td>\n",
       "      <td>-35.897345</td>\n",
       "      <td>-60.731609</td>\n",
       "    </tr>\n",
       "    <tr>\n",
       "      <th>3</th>\n",
       "      <td>BUENOS AIRES</td>\n",
       "      <td>25 de Mayo</td>\n",
       "      <td>Ernestina</td>\n",
       "      <td>145</td>\n",
       "      <td>True</td>\n",
       "      <td>False</td>\n",
       "      <td>False</td>\n",
       "      <td>False</td>\n",
       "      <td>False</td>\n",
       "      <td>False</td>\n",
       "      <td>True</td>\n",
       "      <td>False</td>\n",
       "      <td>False</td>\n",
       "      <td>-35.270234</td>\n",
       "      <td>-59.557503</td>\n",
       "    </tr>\n",
       "    <tr>\n",
       "      <th>4</th>\n",
       "      <td>BUENOS AIRES</td>\n",
       "      <td>25 de Mayo</td>\n",
       "      <td>Gobernador Ugarte</td>\n",
       "      <td>547</td>\n",
       "      <td>False</td>\n",
       "      <td>False</td>\n",
       "      <td>False</td>\n",
       "      <td>False</td>\n",
       "      <td>False</td>\n",
       "      <td>True</td>\n",
       "      <td>False</td>\n",
       "      <td>False</td>\n",
       "      <td>False</td>\n",
       "      <td>-35.164397</td>\n",
       "      <td>-60.081358</td>\n",
       "    </tr>\n",
       "  </tbody>\n",
       "</table>\n",
       "</div>"
      ],
      "text/plain": [
       "      Provincia     Partido          Localidad  Población   ADSL  Cablemódem  \\\n",
       "0  BUENOS AIRES  25 de Mayo         25 de Mayo      23408   True        True   \n",
       "1  BUENOS AIRES  25 de Mayo    Agustín Mosconi        280  False       False   \n",
       "2  BUENOS AIRES  25 de Mayo          Del Valle        899   True       False   \n",
       "3  BUENOS AIRES  25 de Mayo          Ernestina        145   True       False   \n",
       "4  BUENOS AIRES  25 de Mayo  Gobernador Ugarte        547  False       False   \n",
       "\n",
       "   Dial Up  Fibra óptica  Satelital  Wireless  Telefonía Fija     3G     4G  \\\n",
       "0    False         False       True      True            True   True   True   \n",
       "1    False         False      False     False            True  False  False   \n",
       "2    False         False       True     False           False   True  False   \n",
       "3    False         False      False     False            True  False  False   \n",
       "4    False         False      False      True           False  False  False   \n",
       "\n",
       "     Latitud   Longitud  \n",
       "0 -35.433939 -60.173121  \n",
       "1 -35.739217 -60.559063  \n",
       "2 -35.897345 -60.731609  \n",
       "3 -35.270234 -59.557503  \n",
       "4 -35.164397 -60.081358  "
      ]
     },
     "execution_count": 32,
     "metadata": {},
     "output_type": "execute_result"
    }
   ],
   "source": [
    "mapa['ADSL'] = np.where(mapa['ADSL'].str.upper().eq('SI'), True, False)\n",
    "mapa['Cablemódem'] = np.where(mapa['Cablemódem'].str.upper().eq('SI'), True, False)\n",
    "mapa['Dial Up'] = np.where(mapa['Dial Up'].str.upper().eq('SI'), True, False)\n",
    "mapa['Fibra óptica'] = np.where(mapa['Fibra óptica'].str.upper().eq('SI'), True, False)\n",
    "mapa['Satelital'] = np.where(mapa['Satelital'].str.upper().eq('SI'), True, False)\n",
    "mapa['Wireless'] = np.where(mapa['Wireless'].str.upper().eq('SI'), True, False)\n",
    "mapa['Telefonía Fija'] = np.where(mapa['Telefonía Fija'].str.upper().eq('SI'), True, False)\n",
    "mapa['3G'] = np.where(mapa['3G'].str.upper().eq('SI'), True, False)\n",
    "mapa['4G'] = np.where(mapa['4G'].str.upper().eq('SI'), True, False)\n",
    "mapa.head(5)"
   ]
  },
  {
   "cell_type": "markdown",
   "metadata": {},
   "source": [
    "* Convierto en mayusculas los campos que voy a usar como clave"
   ]
  },
  {
   "cell_type": "code",
   "execution_count": 33,
   "metadata": {},
   "outputs": [
    {
     "data": {
      "text/html": [
       "<div>\n",
       "<style scoped>\n",
       "    .dataframe tbody tr th:only-of-type {\n",
       "        vertical-align: middle;\n",
       "    }\n",
       "\n",
       "    .dataframe tbody tr th {\n",
       "        vertical-align: top;\n",
       "    }\n",
       "\n",
       "    .dataframe thead th {\n",
       "        text-align: right;\n",
       "    }\n",
       "</style>\n",
       "<table border=\"1\" class=\"dataframe\">\n",
       "  <thead>\n",
       "    <tr style=\"text-align: right;\">\n",
       "      <th></th>\n",
       "      <th>Provincia</th>\n",
       "      <th>Partido</th>\n",
       "      <th>Localidad</th>\n",
       "      <th>Población</th>\n",
       "      <th>ADSL</th>\n",
       "      <th>Cablemódem</th>\n",
       "      <th>Dial Up</th>\n",
       "      <th>Fibra óptica</th>\n",
       "      <th>Satelital</th>\n",
       "      <th>Wireless</th>\n",
       "      <th>Telefonía Fija</th>\n",
       "      <th>3G</th>\n",
       "      <th>4G</th>\n",
       "      <th>Latitud</th>\n",
       "      <th>Longitud</th>\n",
       "    </tr>\n",
       "  </thead>\n",
       "  <tbody>\n",
       "    <tr>\n",
       "      <th>0</th>\n",
       "      <td>BUENOS AIRES</td>\n",
       "      <td>25 DE MAYO</td>\n",
       "      <td>25 DE MAYO</td>\n",
       "      <td>23408</td>\n",
       "      <td>True</td>\n",
       "      <td>True</td>\n",
       "      <td>False</td>\n",
       "      <td>False</td>\n",
       "      <td>True</td>\n",
       "      <td>True</td>\n",
       "      <td>True</td>\n",
       "      <td>True</td>\n",
       "      <td>True</td>\n",
       "      <td>-35.433939</td>\n",
       "      <td>-60.173121</td>\n",
       "    </tr>\n",
       "    <tr>\n",
       "      <th>1</th>\n",
       "      <td>BUENOS AIRES</td>\n",
       "      <td>25 DE MAYO</td>\n",
       "      <td>AGUSTÍN MOSCONI</td>\n",
       "      <td>280</td>\n",
       "      <td>False</td>\n",
       "      <td>False</td>\n",
       "      <td>False</td>\n",
       "      <td>False</td>\n",
       "      <td>False</td>\n",
       "      <td>False</td>\n",
       "      <td>True</td>\n",
       "      <td>False</td>\n",
       "      <td>False</td>\n",
       "      <td>-35.739217</td>\n",
       "      <td>-60.559063</td>\n",
       "    </tr>\n",
       "    <tr>\n",
       "      <th>2</th>\n",
       "      <td>BUENOS AIRES</td>\n",
       "      <td>25 DE MAYO</td>\n",
       "      <td>DEL VALLE</td>\n",
       "      <td>899</td>\n",
       "      <td>True</td>\n",
       "      <td>False</td>\n",
       "      <td>False</td>\n",
       "      <td>False</td>\n",
       "      <td>True</td>\n",
       "      <td>False</td>\n",
       "      <td>False</td>\n",
       "      <td>True</td>\n",
       "      <td>False</td>\n",
       "      <td>-35.897345</td>\n",
       "      <td>-60.731609</td>\n",
       "    </tr>\n",
       "    <tr>\n",
       "      <th>3</th>\n",
       "      <td>BUENOS AIRES</td>\n",
       "      <td>25 DE MAYO</td>\n",
       "      <td>ERNESTINA</td>\n",
       "      <td>145</td>\n",
       "      <td>True</td>\n",
       "      <td>False</td>\n",
       "      <td>False</td>\n",
       "      <td>False</td>\n",
       "      <td>False</td>\n",
       "      <td>False</td>\n",
       "      <td>True</td>\n",
       "      <td>False</td>\n",
       "      <td>False</td>\n",
       "      <td>-35.270234</td>\n",
       "      <td>-59.557503</td>\n",
       "    </tr>\n",
       "    <tr>\n",
       "      <th>4</th>\n",
       "      <td>BUENOS AIRES</td>\n",
       "      <td>25 DE MAYO</td>\n",
       "      <td>GOBERNADOR UGARTE</td>\n",
       "      <td>547</td>\n",
       "      <td>False</td>\n",
       "      <td>False</td>\n",
       "      <td>False</td>\n",
       "      <td>False</td>\n",
       "      <td>False</td>\n",
       "      <td>True</td>\n",
       "      <td>False</td>\n",
       "      <td>False</td>\n",
       "      <td>False</td>\n",
       "      <td>-35.164397</td>\n",
       "      <td>-60.081358</td>\n",
       "    </tr>\n",
       "  </tbody>\n",
       "</table>\n",
       "</div>"
      ],
      "text/plain": [
       "      Provincia     Partido          Localidad  Población   ADSL  Cablemódem  \\\n",
       "0  BUENOS AIRES  25 DE MAYO         25 DE MAYO      23408   True        True   \n",
       "1  BUENOS AIRES  25 DE MAYO    AGUSTÍN MOSCONI        280  False       False   \n",
       "2  BUENOS AIRES  25 DE MAYO          DEL VALLE        899   True       False   \n",
       "3  BUENOS AIRES  25 DE MAYO          ERNESTINA        145   True       False   \n",
       "4  BUENOS AIRES  25 DE MAYO  GOBERNADOR UGARTE        547  False       False   \n",
       "\n",
       "   Dial Up  Fibra óptica  Satelital  Wireless  Telefonía Fija     3G     4G  \\\n",
       "0    False         False       True      True            True   True   True   \n",
       "1    False         False      False     False            True  False  False   \n",
       "2    False         False       True     False           False   True  False   \n",
       "3    False         False      False     False            True  False  False   \n",
       "4    False         False      False      True           False  False  False   \n",
       "\n",
       "     Latitud   Longitud  \n",
       "0 -35.433939 -60.173121  \n",
       "1 -35.739217 -60.559063  \n",
       "2 -35.897345 -60.731609  \n",
       "3 -35.270234 -59.557503  \n",
       "4 -35.164397 -60.081358  "
      ]
     },
     "execution_count": 33,
     "metadata": {},
     "output_type": "execute_result"
    }
   ],
   "source": [
    "mapa['Provincia'] = mapa['Provincia'].str.upper()\n",
    "mapa['Partido'] = mapa['Partido'].str.upper()\n",
    "mapa['Localidad'] = mapa['Localidad'].str.upper()\n",
    "mapa.head(5)"
   ]
  },
  {
   "cell_type": "markdown",
   "metadata": {},
   "source": [
    "* Normalizo los nombres de columnas"
   ]
  },
  {
   "cell_type": "code",
   "execution_count": 34,
   "metadata": {},
   "outputs": [],
   "source": [
    "mapa.rename(columns={'Provincia':'PROVINCIA','Partido':'PARTIDO','Localidad':'LOCALIDAD','Población':'POBLACION','ADSL':'M_ADSL','Cablemódem':'M_CABLEMODEM','Dial Up':'M_DIAL_UP','Fibra óptica':'M_FIBRA_OPTICA','Satelital':'M_SATELITAL','Wireless':'M_WIRELESS','Telefonía Fija':'M_TELEFONIA_FIJA','3G':'M_3G','4G':'M_4G','Latitud':'LATITUD','Longitud':'LONGITUD'},inplace=True)"
   ]
  },
  {
   "cell_type": "markdown",
   "metadata": {},
   "source": [
    "\n",
    "* Voy a calcular la distancia de cada localidad con respecto al barrio (de CABA) de mayor poblacion, el centro."
   ]
  },
  {
   "cell_type": "code",
   "execution_count": 35,
   "metadata": {},
   "outputs": [
    {
     "data": {
      "text/plain": [
       "PROVINCIA         CABA\n",
       "PARTIDO      COMUNA 14\n",
       "LOCALIDAD      PALERMO\n",
       "POBLACION       225970\n",
       "Name: 720, dtype: object"
      ]
     },
     "execution_count": 35,
     "metadata": {},
     "output_type": "execute_result"
    }
   ],
   "source": [
    "\n",
    "mapa.loc[mapa[mapa.PROVINCIA == 'CABA'].POBLACION.idxmax()][['PROVINCIA','PARTIDO','LOCALIDAD','POBLACION']]"
   ]
  },
  {
   "cell_type": "markdown",
   "metadata": {},
   "source": [
    "* defino los metodos para calcular la distancia en KM"
   ]
  },
  {
   "cell_type": "code",
   "execution_count": 36,
   "metadata": {},
   "outputs": [],
   "source": [
    "\n",
    "def rad2deg(radians):\n",
    "    degrees = radians * 180 / np.pi\n",
    "    return degrees\n",
    "\n",
    "def deg2rad(degrees):\n",
    "    radians = degrees * np.pi / 180\n",
    "    return radians\n",
    "\n",
    "def getDistanceBetweenPoints(latitude1, longitude1, latitude2, longitude2):\n",
    "    \n",
    "    theta = longitude1 - longitude2\n",
    "    \n",
    "    distance = 60 * 1.1515 * rad2deg(\n",
    "        np.arccos(\n",
    "            (np.sin(deg2rad(latitude1)) * np.sin(deg2rad(latitude2))) + \n",
    "            (np.cos(deg2rad(latitude1)) * np.cos(deg2rad(latitude2)) * np.cos(deg2rad(theta)))\n",
    "        )\n",
    "    )\n",
    "    \n",
    "    return round(distance * 1.609344, 2)"
   ]
  },
  {
   "cell_type": "code",
   "execution_count": 37,
   "metadata": {},
   "outputs": [
    {
     "data": {
      "text/html": [
       "<div>\n",
       "<style scoped>\n",
       "    .dataframe tbody tr th:only-of-type {\n",
       "        vertical-align: middle;\n",
       "    }\n",
       "\n",
       "    .dataframe tbody tr th {\n",
       "        vertical-align: top;\n",
       "    }\n",
       "\n",
       "    .dataframe thead th {\n",
       "        text-align: right;\n",
       "    }\n",
       "</style>\n",
       "<table border=\"1\" class=\"dataframe\">\n",
       "  <thead>\n",
       "    <tr style=\"text-align: right;\">\n",
       "      <th></th>\n",
       "      <th>PROVINCIA</th>\n",
       "      <th>PARTIDO</th>\n",
       "      <th>LOCALIDAD</th>\n",
       "      <th>POBLACION</th>\n",
       "      <th>M_ADSL</th>\n",
       "      <th>M_CABLEMODEM</th>\n",
       "      <th>M_DIAL_UP</th>\n",
       "      <th>M_FIBRA_OPTICA</th>\n",
       "      <th>M_SATELITAL</th>\n",
       "      <th>M_WIRELESS</th>\n",
       "      <th>M_TELEFONIA_FIJA</th>\n",
       "      <th>M_3G</th>\n",
       "      <th>M_4G</th>\n",
       "      <th>LATITUD</th>\n",
       "      <th>LONGITUD</th>\n",
       "      <th>DISTANCIA</th>\n",
       "    </tr>\n",
       "  </thead>\n",
       "  <tbody>\n",
       "    <tr>\n",
       "      <th>0</th>\n",
       "      <td>BUENOS AIRES</td>\n",
       "      <td>25 DE MAYO</td>\n",
       "      <td>25 DE MAYO</td>\n",
       "      <td>23408</td>\n",
       "      <td>True</td>\n",
       "      <td>True</td>\n",
       "      <td>False</td>\n",
       "      <td>False</td>\n",
       "      <td>True</td>\n",
       "      <td>True</td>\n",
       "      <td>True</td>\n",
       "      <td>True</td>\n",
       "      <td>True</td>\n",
       "      <td>-35.433939</td>\n",
       "      <td>-60.173121</td>\n",
       "      <td>185.92</td>\n",
       "    </tr>\n",
       "    <tr>\n",
       "      <th>1</th>\n",
       "      <td>BUENOS AIRES</td>\n",
       "      <td>25 DE MAYO</td>\n",
       "      <td>AGUSTÍN MOSCONI</td>\n",
       "      <td>280</td>\n",
       "      <td>False</td>\n",
       "      <td>False</td>\n",
       "      <td>False</td>\n",
       "      <td>False</td>\n",
       "      <td>False</td>\n",
       "      <td>False</td>\n",
       "      <td>True</td>\n",
       "      <td>False</td>\n",
       "      <td>False</td>\n",
       "      <td>-35.739217</td>\n",
       "      <td>-60.559063</td>\n",
       "      <td>233.48</td>\n",
       "    </tr>\n",
       "    <tr>\n",
       "      <th>2</th>\n",
       "      <td>BUENOS AIRES</td>\n",
       "      <td>25 DE MAYO</td>\n",
       "      <td>DEL VALLE</td>\n",
       "      <td>899</td>\n",
       "      <td>True</td>\n",
       "      <td>False</td>\n",
       "      <td>False</td>\n",
       "      <td>False</td>\n",
       "      <td>True</td>\n",
       "      <td>False</td>\n",
       "      <td>False</td>\n",
       "      <td>True</td>\n",
       "      <td>False</td>\n",
       "      <td>-35.897345</td>\n",
       "      <td>-60.731609</td>\n",
       "      <td>256.18</td>\n",
       "    </tr>\n",
       "    <tr>\n",
       "      <th>3</th>\n",
       "      <td>BUENOS AIRES</td>\n",
       "      <td>25 DE MAYO</td>\n",
       "      <td>ERNESTINA</td>\n",
       "      <td>145</td>\n",
       "      <td>True</td>\n",
       "      <td>False</td>\n",
       "      <td>False</td>\n",
       "      <td>False</td>\n",
       "      <td>False</td>\n",
       "      <td>False</td>\n",
       "      <td>True</td>\n",
       "      <td>False</td>\n",
       "      <td>False</td>\n",
       "      <td>-35.270234</td>\n",
       "      <td>-59.557503</td>\n",
       "      <td>129.24</td>\n",
       "    </tr>\n",
       "    <tr>\n",
       "      <th>4</th>\n",
       "      <td>BUENOS AIRES</td>\n",
       "      <td>25 DE MAYO</td>\n",
       "      <td>GOBERNADOR UGARTE</td>\n",
       "      <td>547</td>\n",
       "      <td>False</td>\n",
       "      <td>False</td>\n",
       "      <td>False</td>\n",
       "      <td>False</td>\n",
       "      <td>False</td>\n",
       "      <td>True</td>\n",
       "      <td>False</td>\n",
       "      <td>False</td>\n",
       "      <td>False</td>\n",
       "      <td>-35.164397</td>\n",
       "      <td>-60.081358</td>\n",
       "      <td>164.96</td>\n",
       "    </tr>\n",
       "  </tbody>\n",
       "</table>\n",
       "</div>"
      ],
      "text/plain": [
       "      PROVINCIA     PARTIDO          LOCALIDAD  POBLACION  M_ADSL  \\\n",
       "0  BUENOS AIRES  25 DE MAYO         25 DE MAYO      23408    True   \n",
       "1  BUENOS AIRES  25 DE MAYO    AGUSTÍN MOSCONI        280   False   \n",
       "2  BUENOS AIRES  25 DE MAYO          DEL VALLE        899    True   \n",
       "3  BUENOS AIRES  25 DE MAYO          ERNESTINA        145    True   \n",
       "4  BUENOS AIRES  25 DE MAYO  GOBERNADOR UGARTE        547   False   \n",
       "\n",
       "   M_CABLEMODEM  M_DIAL_UP  M_FIBRA_OPTICA  M_SATELITAL  M_WIRELESS  \\\n",
       "0          True      False           False         True        True   \n",
       "1         False      False           False        False       False   \n",
       "2         False      False           False         True       False   \n",
       "3         False      False           False        False       False   \n",
       "4         False      False           False        False        True   \n",
       "\n",
       "   M_TELEFONIA_FIJA   M_3G   M_4G    LATITUD   LONGITUD  DISTANCIA  \n",
       "0              True   True   True -35.433939 -60.173121     185.92  \n",
       "1              True  False  False -35.739217 -60.559063     233.48  \n",
       "2             False   True  False -35.897345 -60.731609     256.18  \n",
       "3              True  False  False -35.270234 -59.557503     129.24  \n",
       "4             False  False  False -35.164397 -60.081358     164.96  "
      ]
     },
     "execution_count": 37,
     "metadata": {},
     "output_type": "execute_result"
    }
   ],
   "source": [
    "lat2 = mapa[mapa['LOCALIDAD'] == 'PALERMO']['LATITUD'].values[0]\n",
    "lon2 = mapa[mapa['LOCALIDAD'] == 'PALERMO']['LONGITUD'].values[0]\n",
    "mapa['DISTANCIA'] = mapa.apply(lambda row: getDistanceBetweenPoints(row['LATITUD'], row['LONGITUD'],lat2, lon2), axis=1)\n",
    "\n",
    "mapa.head(5)"
   ]
  },
  {
   "cell_type": "markdown",
   "metadata": {},
   "source": [
    "* controlo la distancia maxima"
   ]
  },
  {
   "cell_type": "code",
   "execution_count": 38,
   "metadata": {},
   "outputs": [
    {
     "data": {
      "text/plain": [
       "PROVINCIA       TIERRA DEL FUEGO\n",
       "PARTIDO      ANTARTIDA ARGENTINA\n",
       "LOCALIDAD       BASE BELGRANO II\n",
       "POBLACION                      0\n",
       "DISTANCIA                 4949.6\n",
       "Name: 3234, dtype: object"
      ]
     },
     "execution_count": 38,
     "metadata": {},
     "output_type": "execute_result"
    }
   ],
   "source": [
    "\n",
    "mapa.loc[mapa.DISTANCIA.idxmax()][['PROVINCIA','PARTIDO','LOCALIDAD','POBLACION','DISTANCIA']]"
   ]
  },
  {
   "cell_type": "markdown",
   "metadata": {},
   "source": [
    "* guardar como csv"
   ]
  },
  {
   "cell_type": "code",
   "execution_count": 39,
   "metadata": {},
   "outputs": [],
   "source": [
    "\n",
    "mapa.to_csv(r'mapa_depurado.csv',index=False)"
   ]
  },
  {
   "cell_type": "code",
   "execution_count": 40,
   "metadata": {},
   "outputs": [],
   "source": [
    "mapa = pd.read_csv('pruebas/mapa_depurado.csv')"
   ]
  },
  {
   "cell_type": "markdown",
   "metadata": {},
   "source": [
    "## 1.4 Hago el merge de mapa e internet"
   ]
  },
  {
   "cell_type": "code",
   "execution_count": 41,
   "metadata": {},
   "outputs": [
    {
     "name": "stdout",
     "output_type": "stream",
     "text": [
      "(3067, 11)\n",
      "(4305, 16)\n"
     ]
    }
   ],
   "source": [
    "print(internet.shape)\n",
    "print(mapa.shape)"
   ]
  },
  {
   "cell_type": "code",
   "execution_count": 42,
   "metadata": {},
   "outputs": [
    {
     "data": {
      "text/plain": [
       "(4305, 24)"
      ]
     },
     "execution_count": 42,
     "metadata": {},
     "output_type": "execute_result"
    }
   ],
   "source": [
    "mapa_internet = pd.merge(mapa, internet, on=['PROVINCIA','PARTIDO','LOCALIDAD'], how='left')\n",
    "mapa_internet.shape"
   ]
  },
  {
   "cell_type": "code",
   "execution_count": 45,
   "metadata": {},
   "outputs": [
    {
     "data": {
      "text/html": [
       "<div>\n",
       "<style scoped>\n",
       "    .dataframe tbody tr th:only-of-type {\n",
       "        vertical-align: middle;\n",
       "    }\n",
       "\n",
       "    .dataframe tbody tr th {\n",
       "        vertical-align: top;\n",
       "    }\n",
       "\n",
       "    .dataframe thead th {\n",
       "        text-align: right;\n",
       "    }\n",
       "</style>\n",
       "<table border=\"1\" class=\"dataframe\">\n",
       "  <thead>\n",
       "    <tr style=\"text-align: right;\">\n",
       "      <th></th>\n",
       "      <th>PROVINCIA</th>\n",
       "      <th>PARTIDO</th>\n",
       "      <th>LOCALIDAD</th>\n",
       "      <th>POBLACION</th>\n",
       "      <th>M_ADSL</th>\n",
       "      <th>M_CABLEMODEM</th>\n",
       "      <th>M_DIAL_UP</th>\n",
       "      <th>M_FIBRA_OPTICA</th>\n",
       "      <th>M_SATELITAL</th>\n",
       "      <th>M_WIRELESS</th>\n",
       "      <th>...</th>\n",
       "      <th>LONGITUD</th>\n",
       "      <th>DISTANCIA</th>\n",
       "      <th>ADSL</th>\n",
       "      <th>CABLEMODEM</th>\n",
       "      <th>DIAL_UP</th>\n",
       "      <th>FIBRA_OPTICA</th>\n",
       "      <th>OTROS</th>\n",
       "      <th>SATELITAL</th>\n",
       "      <th>WIMAX</th>\n",
       "      <th>WIRELESS</th>\n",
       "    </tr>\n",
       "  </thead>\n",
       "  <tbody>\n",
       "    <tr>\n",
       "      <th>755</th>\n",
       "      <td>MENDOZA</td>\n",
       "      <td>LUJÁN DE CUYO</td>\n",
       "      <td>BARRIO ADINA I Y II</td>\n",
       "      <td>0</td>\n",
       "      <td>False</td>\n",
       "      <td>False</td>\n",
       "      <td>False</td>\n",
       "      <td>False</td>\n",
       "      <td>False</td>\n",
       "      <td>False</td>\n",
       "      <td>...</td>\n",
       "      <td>-68.887701</td>\n",
       "      <td>980.71</td>\n",
       "      <td>NaN</td>\n",
       "      <td>NaN</td>\n",
       "      <td>NaN</td>\n",
       "      <td>NaN</td>\n",
       "      <td>NaN</td>\n",
       "      <td>NaN</td>\n",
       "      <td>NaN</td>\n",
       "      <td>NaN</td>\n",
       "    </tr>\n",
       "    <tr>\n",
       "      <th>3550</th>\n",
       "      <td>CORDOBA</td>\n",
       "      <td>TULUMBA</td>\n",
       "      <td>SAN PEDRO NORTE</td>\n",
       "      <td>317</td>\n",
       "      <td>False</td>\n",
       "      <td>False</td>\n",
       "      <td>False</td>\n",
       "      <td>False</td>\n",
       "      <td>False</td>\n",
       "      <td>True</td>\n",
       "      <td>...</td>\n",
       "      <td>-64.155954</td>\n",
       "      <td>733.81</td>\n",
       "      <td>0.0</td>\n",
       "      <td>0.0</td>\n",
       "      <td>0.0</td>\n",
       "      <td>0.0</td>\n",
       "      <td>0.0</td>\n",
       "      <td>0.0</td>\n",
       "      <td>0.0</td>\n",
       "      <td>62.0</td>\n",
       "    </tr>\n",
       "    <tr>\n",
       "      <th>1590</th>\n",
       "      <td>CORDOBA</td>\n",
       "      <td>MARCOS JUÁREZ</td>\n",
       "      <td>ALEJO LEDESMA</td>\n",
       "      <td>3299</td>\n",
       "      <td>False</td>\n",
       "      <td>False</td>\n",
       "      <td>False</td>\n",
       "      <td>True</td>\n",
       "      <td>True</td>\n",
       "      <td>True</td>\n",
       "      <td>...</td>\n",
       "      <td>-62.626141</td>\n",
       "      <td>401.68</td>\n",
       "      <td>0.0</td>\n",
       "      <td>0.0</td>\n",
       "      <td>0.0</td>\n",
       "      <td>1.0</td>\n",
       "      <td>0.0</td>\n",
       "      <td>3.0</td>\n",
       "      <td>0.0</td>\n",
       "      <td>64.0</td>\n",
       "    </tr>\n",
       "    <tr>\n",
       "      <th>3716</th>\n",
       "      <td>TUCUMAN</td>\n",
       "      <td>CRUZ ALTA</td>\n",
       "      <td>COLOMBRES</td>\n",
       "      <td>5086</td>\n",
       "      <td>False</td>\n",
       "      <td>False</td>\n",
       "      <td>False</td>\n",
       "      <td>False</td>\n",
       "      <td>False</td>\n",
       "      <td>True</td>\n",
       "      <td>...</td>\n",
       "      <td>-65.099941</td>\n",
       "      <td>1066.36</td>\n",
       "      <td>0.0</td>\n",
       "      <td>0.0</td>\n",
       "      <td>0.0</td>\n",
       "      <td>0.0</td>\n",
       "      <td>0.0</td>\n",
       "      <td>0.0</td>\n",
       "      <td>0.0</td>\n",
       "      <td>1.0</td>\n",
       "    </tr>\n",
       "    <tr>\n",
       "      <th>1171</th>\n",
       "      <td>BUENOS AIRES</td>\n",
       "      <td>BALCARCE</td>\n",
       "      <td>BALCARCE</td>\n",
       "      <td>38376</td>\n",
       "      <td>True</td>\n",
       "      <td>True</td>\n",
       "      <td>True</td>\n",
       "      <td>True</td>\n",
       "      <td>False</td>\n",
       "      <td>True</td>\n",
       "      <td>...</td>\n",
       "      <td>-58.255167</td>\n",
       "      <td>364.39</td>\n",
       "      <td>1347.0</td>\n",
       "      <td>11903.0</td>\n",
       "      <td>36.0</td>\n",
       "      <td>45.0</td>\n",
       "      <td>9.0</td>\n",
       "      <td>0.0</td>\n",
       "      <td>0.0</td>\n",
       "      <td>883.0</td>\n",
       "    </tr>\n",
       "    <tr>\n",
       "      <th>663</th>\n",
       "      <td>CORDOBA</td>\n",
       "      <td>COLÓN</td>\n",
       "      <td>CANTERAS EL SAUCE</td>\n",
       "      <td>290</td>\n",
       "      <td>False</td>\n",
       "      <td>False</td>\n",
       "      <td>False</td>\n",
       "      <td>False</td>\n",
       "      <td>False</td>\n",
       "      <td>False</td>\n",
       "      <td>...</td>\n",
       "      <td>-64.314534</td>\n",
       "      <td>673.15</td>\n",
       "      <td>NaN</td>\n",
       "      <td>NaN</td>\n",
       "      <td>NaN</td>\n",
       "      <td>NaN</td>\n",
       "      <td>NaN</td>\n",
       "      <td>NaN</td>\n",
       "      <td>NaN</td>\n",
       "      <td>NaN</td>\n",
       "    </tr>\n",
       "    <tr>\n",
       "      <th>1587</th>\n",
       "      <td>CORDOBA</td>\n",
       "      <td>GENERAL SAN MARTÍN</td>\n",
       "      <td>ARROYO ALGODÓN</td>\n",
       "      <td>677</td>\n",
       "      <td>True</td>\n",
       "      <td>False</td>\n",
       "      <td>False</td>\n",
       "      <td>True</td>\n",
       "      <td>False</td>\n",
       "      <td>True</td>\n",
       "      <td>...</td>\n",
       "      <td>-63.162786</td>\n",
       "      <td>512.97</td>\n",
       "      <td>159.0</td>\n",
       "      <td>0.0</td>\n",
       "      <td>0.0</td>\n",
       "      <td>1.0</td>\n",
       "      <td>0.0</td>\n",
       "      <td>0.0</td>\n",
       "      <td>0.0</td>\n",
       "      <td>226.0</td>\n",
       "    </tr>\n",
       "    <tr>\n",
       "      <th>1817</th>\n",
       "      <td>SAN LUIS</td>\n",
       "      <td>GENERAL PEDERNERA</td>\n",
       "      <td>5TA BRIGADA</td>\n",
       "      <td>0</td>\n",
       "      <td>False</td>\n",
       "      <td>False</td>\n",
       "      <td>False</td>\n",
       "      <td>False</td>\n",
       "      <td>False</td>\n",
       "      <td>False</td>\n",
       "      <td>...</td>\n",
       "      <td>-65.381038</td>\n",
       "      <td>647.12</td>\n",
       "      <td>NaN</td>\n",
       "      <td>NaN</td>\n",
       "      <td>NaN</td>\n",
       "      <td>NaN</td>\n",
       "      <td>NaN</td>\n",
       "      <td>NaN</td>\n",
       "      <td>NaN</td>\n",
       "      <td>NaN</td>\n",
       "    </tr>\n",
       "    <tr>\n",
       "      <th>3376</th>\n",
       "      <td>MENDOZA</td>\n",
       "      <td>SAN MARTÍN</td>\n",
       "      <td>MONTECASEROS</td>\n",
       "      <td>1106</td>\n",
       "      <td>False</td>\n",
       "      <td>False</td>\n",
       "      <td>False</td>\n",
       "      <td>False</td>\n",
       "      <td>False</td>\n",
       "      <td>True</td>\n",
       "      <td>...</td>\n",
       "      <td>-68.393680</td>\n",
       "      <td>937.22</td>\n",
       "      <td>0.0</td>\n",
       "      <td>0.0</td>\n",
       "      <td>0.0</td>\n",
       "      <td>0.0</td>\n",
       "      <td>0.0</td>\n",
       "      <td>0.0</td>\n",
       "      <td>0.0</td>\n",
       "      <td>94.0</td>\n",
       "    </tr>\n",
       "    <tr>\n",
       "      <th>349</th>\n",
       "      <td>SALTA</td>\n",
       "      <td>GENERAL GÜEMES</td>\n",
       "      <td>EL BORDO</td>\n",
       "      <td>5833</td>\n",
       "      <td>False</td>\n",
       "      <td>False</td>\n",
       "      <td>False</td>\n",
       "      <td>True</td>\n",
       "      <td>False</td>\n",
       "      <td>True</td>\n",
       "      <td>...</td>\n",
       "      <td>-65.105255</td>\n",
       "      <td>1276.60</td>\n",
       "      <td>0.0</td>\n",
       "      <td>0.0</td>\n",
       "      <td>0.0</td>\n",
       "      <td>61.0</td>\n",
       "      <td>0.0</td>\n",
       "      <td>0.0</td>\n",
       "      <td>0.0</td>\n",
       "      <td>5.0</td>\n",
       "    </tr>\n",
       "  </tbody>\n",
       "</table>\n",
       "<p>10 rows × 24 columns</p>\n",
       "</div>"
      ],
      "text/plain": [
       "         PROVINCIA             PARTIDO            LOCALIDAD  POBLACION  \\\n",
       "755        MENDOZA       LUJÁN DE CUYO  BARRIO ADINA I Y II          0   \n",
       "3550       CORDOBA             TULUMBA      SAN PEDRO NORTE        317   \n",
       "1590       CORDOBA       MARCOS JUÁREZ        ALEJO LEDESMA       3299   \n",
       "3716       TUCUMAN           CRUZ ALTA            COLOMBRES       5086   \n",
       "1171  BUENOS AIRES            BALCARCE             BALCARCE      38376   \n",
       "663        CORDOBA               COLÓN    CANTERAS EL SAUCE        290   \n",
       "1587       CORDOBA  GENERAL SAN MARTÍN       ARROYO ALGODÓN        677   \n",
       "1817      SAN LUIS   GENERAL PEDERNERA          5TA BRIGADA          0   \n",
       "3376       MENDOZA          SAN MARTÍN         MONTECASEROS       1106   \n",
       "349          SALTA      GENERAL GÜEMES             EL BORDO       5833   \n",
       "\n",
       "      M_ADSL  M_CABLEMODEM  M_DIAL_UP  M_FIBRA_OPTICA  M_SATELITAL  \\\n",
       "755    False         False      False           False        False   \n",
       "3550   False         False      False           False        False   \n",
       "1590   False         False      False            True         True   \n",
       "3716   False         False      False           False        False   \n",
       "1171    True          True       True            True        False   \n",
       "663    False         False      False           False        False   \n",
       "1587    True         False      False            True        False   \n",
       "1817   False         False      False           False        False   \n",
       "3376   False         False      False           False        False   \n",
       "349    False         False      False            True        False   \n",
       "\n",
       "      M_WIRELESS  ...   LONGITUD  DISTANCIA    ADSL  CABLEMODEM  DIAL_UP  \\\n",
       "755        False  ... -68.887701     980.71     NaN         NaN      NaN   \n",
       "3550        True  ... -64.155954     733.81     0.0         0.0      0.0   \n",
       "1590        True  ... -62.626141     401.68     0.0         0.0      0.0   \n",
       "3716        True  ... -65.099941    1066.36     0.0         0.0      0.0   \n",
       "1171        True  ... -58.255167     364.39  1347.0     11903.0     36.0   \n",
       "663        False  ... -64.314534     673.15     NaN         NaN      NaN   \n",
       "1587        True  ... -63.162786     512.97   159.0         0.0      0.0   \n",
       "1817       False  ... -65.381038     647.12     NaN         NaN      NaN   \n",
       "3376        True  ... -68.393680     937.22     0.0         0.0      0.0   \n",
       "349         True  ... -65.105255    1276.60     0.0         0.0      0.0   \n",
       "\n",
       "      FIBRA_OPTICA  OTROS  SATELITAL  WIMAX  WIRELESS  \n",
       "755            NaN    NaN        NaN    NaN       NaN  \n",
       "3550           0.0    0.0        0.0    0.0      62.0  \n",
       "1590           1.0    0.0        3.0    0.0      64.0  \n",
       "3716           0.0    0.0        0.0    0.0       1.0  \n",
       "1171          45.0    9.0        0.0    0.0     883.0  \n",
       "663            NaN    NaN        NaN    NaN       NaN  \n",
       "1587           1.0    0.0        0.0    0.0     226.0  \n",
       "1817           NaN    NaN        NaN    NaN       NaN  \n",
       "3376           0.0    0.0        0.0    0.0      94.0  \n",
       "349           61.0    0.0        0.0    0.0       5.0  \n",
       "\n",
       "[10 rows x 24 columns]"
      ]
     },
     "execution_count": 45,
     "metadata": {},
     "output_type": "execute_result"
    }
   ],
   "source": [
    "mapa_internet.sample(10)"
   ]
  },
  {
   "cell_type": "code",
   "execution_count": 48,
   "metadata": {},
   "outputs": [
    {
     "data": {
      "text/plain": [
       "ADSL\n",
       "False    2952\n",
       "True     1353\n",
       "Name: count, dtype: int64"
      ]
     },
     "execution_count": 48,
     "metadata": {},
     "output_type": "execute_result"
    }
   ],
   "source": [
    "mapa_internet['ADSL'].isna().value_counts()"
   ]
  },
  {
   "cell_type": "markdown",
   "metadata": {},
   "source": [
    "#### Hay 2952 filas donde ADSL no es NA, eso significa que matcheó el merge, pero contra las 3067 filas del dataset de la derecha veo que hay mas de 100 filas de internet que no matchearon\n",
    "**_Observo que estoy dejando afuera mas 100 localidades que tienen datos relevantes pero no matcheo con la base de localidades, analizo un merge en sentido contrario_**"
   ]
  },
  {
   "cell_type": "code",
   "execution_count": 58,
   "metadata": {},
   "outputs": [
    {
     "name": "stdout",
     "output_type": "stream",
     "text": [
      "Filas del dataset de internet que no matchearon con la BD de mapa: 115\n",
      "PROVINCIA\n",
      "BUENOS AIRES    62\n",
      "Name: count, dtype: int64\n",
      "PARTIDO\n",
      "OTROS    15\n",
      "Name: count, dtype: int64\n",
      "LOCALIDAD\n",
      "OTROS    66\n",
      "Name: count, dtype: int64\n"
     ]
    }
   ],
   "source": [
    "\n",
    "internet_mapa = pd.merge(internet,mapa, on=['PROVINCIA','PARTIDO','LOCALIDAD'], how='left')\n",
    "print(f'Filas del dataset de internet que no matchearon con la BD de mapa: {internet_mapa[internet_mapa[\"M_ADSL\"].isna()].shape[0]}')\n",
    "print(internet_mapa[internet_mapa['M_ADSL'].isna()]['PROVINCIA'].value_counts().nlargest(1))\n",
    "print(internet_mapa[internet_mapa['M_ADSL'].isna()]['PARTIDO'].value_counts().nlargest(1))\n",
    "print(internet_mapa[internet_mapa['M_ADSL'].isna()]['LOCALIDAD'].value_counts().nlargest(1))"
   ]
  },
  {
   "cell_type": "markdown",
   "metadata": {},
   "source": [
    "**_Se observa que la mayoria son de la Provincia de Buenos Aires y de aquellos partidos y localidades sin ubicacion exactas bajo la denominacion 'OTROS'_**"
   ]
  },
  {
   "cell_type": "markdown",
   "metadata": {},
   "source": [
    "**_Hago un inner join, y me quedo con las columnas poblacion y distancia relevantes para el EDA_**"
   ]
  },
  {
   "cell_type": "code",
   "execution_count": 59,
   "metadata": {},
   "outputs": [
    {
     "data": {
      "text/plain": [
       "(2952, 13)"
      ]
     },
     "execution_count": 59,
     "metadata": {},
     "output_type": "execute_result"
    }
   ],
   "source": [
    "\n",
    "internet_mapa = pd.merge( internet,mapa[['PROVINCIA','PARTIDO','LOCALIDAD','POBLACION','DISTANCIA']], on=['PROVINCIA','PARTIDO','LOCALIDAD'])\n",
    "internet_mapa.shape"
   ]
  },
  {
   "cell_type": "markdown",
   "metadata": {},
   "source": [
    "* actualizo la Poblacion del registro que representa a CABA"
   ]
  },
  {
   "cell_type": "code",
   "execution_count": 60,
   "metadata": {},
   "outputs": [
    {
     "data": {
      "text/plain": [
       "653    2890151\n",
       "Name: POBLACION, dtype: int64"
      ]
     },
     "execution_count": 60,
     "metadata": {},
     "output_type": "execute_result"
    }
   ],
   "source": [
    "\n",
    "internet_mapa.loc[internet_mapa['PROVINCIA'] == 'CABA', 'POBLACION'] = mapa[mapa['PROVINCIA'] == 'CABA']['POBLACION'].sum()\n",
    "internet_mapa[internet_mapa['PROVINCIA'] == 'CABA']['POBLACION']"
   ]
  },
  {
   "cell_type": "code",
   "execution_count": 61,
   "metadata": {},
   "outputs": [
    {
     "data": {
      "text/html": [
       "<div>\n",
       "<style scoped>\n",
       "    .dataframe tbody tr th:only-of-type {\n",
       "        vertical-align: middle;\n",
       "    }\n",
       "\n",
       "    .dataframe tbody tr th {\n",
       "        vertical-align: top;\n",
       "    }\n",
       "\n",
       "    .dataframe thead th {\n",
       "        text-align: right;\n",
       "    }\n",
       "</style>\n",
       "<table border=\"1\" class=\"dataframe\">\n",
       "  <thead>\n",
       "    <tr style=\"text-align: right;\">\n",
       "      <th></th>\n",
       "      <th>PROVINCIA</th>\n",
       "      <th>PARTIDO</th>\n",
       "      <th>LOCALIDAD</th>\n",
       "      <th>ADSL</th>\n",
       "      <th>CABLEMODEM</th>\n",
       "      <th>DIAL_UP</th>\n",
       "      <th>FIBRA_OPTICA</th>\n",
       "      <th>OTROS</th>\n",
       "      <th>SATELITAL</th>\n",
       "      <th>WIMAX</th>\n",
       "      <th>WIRELESS</th>\n",
       "      <th>POBLACION</th>\n",
       "      <th>DISTANCIA</th>\n",
       "    </tr>\n",
       "  </thead>\n",
       "  <tbody>\n",
       "    <tr>\n",
       "      <th>0</th>\n",
       "      <td>BUENOS AIRES</td>\n",
       "      <td>25 DE MAYO</td>\n",
       "      <td>25 DE MAYO</td>\n",
       "      <td>755</td>\n",
       "      <td>4600</td>\n",
       "      <td>0</td>\n",
       "      <td>2</td>\n",
       "      <td>0</td>\n",
       "      <td>742</td>\n",
       "      <td>0</td>\n",
       "      <td>727</td>\n",
       "      <td>23408</td>\n",
       "      <td>185.92</td>\n",
       "    </tr>\n",
       "    <tr>\n",
       "      <th>1</th>\n",
       "      <td>BUENOS AIRES</td>\n",
       "      <td>25 DE MAYO</td>\n",
       "      <td>DEL VALLE</td>\n",
       "      <td>181</td>\n",
       "      <td>0</td>\n",
       "      <td>0</td>\n",
       "      <td>0</td>\n",
       "      <td>10</td>\n",
       "      <td>1</td>\n",
       "      <td>0</td>\n",
       "      <td>0</td>\n",
       "      <td>899</td>\n",
       "      <td>256.18</td>\n",
       "    </tr>\n",
       "    <tr>\n",
       "      <th>2</th>\n",
       "      <td>BUENOS AIRES</td>\n",
       "      <td>25 DE MAYO</td>\n",
       "      <td>GOBERNADOR UGARTE</td>\n",
       "      <td>0</td>\n",
       "      <td>0</td>\n",
       "      <td>0</td>\n",
       "      <td>0</td>\n",
       "      <td>0</td>\n",
       "      <td>0</td>\n",
       "      <td>0</td>\n",
       "      <td>181</td>\n",
       "      <td>547</td>\n",
       "      <td>164.96</td>\n",
       "    </tr>\n",
       "    <tr>\n",
       "      <th>3</th>\n",
       "      <td>BUENOS AIRES</td>\n",
       "      <td>25 DE MAYO</td>\n",
       "      <td>NORBERTO DE LA RIESTRA</td>\n",
       "      <td>0</td>\n",
       "      <td>782</td>\n",
       "      <td>0</td>\n",
       "      <td>496</td>\n",
       "      <td>16</td>\n",
       "      <td>0</td>\n",
       "      <td>0</td>\n",
       "      <td>185</td>\n",
       "      <td>4524</td>\n",
       "      <td>145.51</td>\n",
       "    </tr>\n",
       "    <tr>\n",
       "      <th>4</th>\n",
       "      <td>BUENOS AIRES</td>\n",
       "      <td>25 DE MAYO</td>\n",
       "      <td>LUCAS MONTEVERDE</td>\n",
       "      <td>0</td>\n",
       "      <td>0</td>\n",
       "      <td>0</td>\n",
       "      <td>0</td>\n",
       "      <td>0</td>\n",
       "      <td>0</td>\n",
       "      <td>0</td>\n",
       "      <td>6</td>\n",
       "      <td>63</td>\n",
       "      <td>174.80</td>\n",
       "    </tr>\n",
       "  </tbody>\n",
       "</table>\n",
       "</div>"
      ],
      "text/plain": [
       "      PROVINCIA     PARTIDO               LOCALIDAD  ADSL  CABLEMODEM  \\\n",
       "0  BUENOS AIRES  25 DE MAYO              25 DE MAYO   755        4600   \n",
       "1  BUENOS AIRES  25 DE MAYO               DEL VALLE   181           0   \n",
       "2  BUENOS AIRES  25 DE MAYO       GOBERNADOR UGARTE     0           0   \n",
       "3  BUENOS AIRES  25 DE MAYO  NORBERTO DE LA RIESTRA     0         782   \n",
       "4  BUENOS AIRES  25 DE MAYO        LUCAS MONTEVERDE     0           0   \n",
       "\n",
       "   DIAL_UP  FIBRA_OPTICA  OTROS  SATELITAL  WIMAX  WIRELESS  POBLACION  \\\n",
       "0        0             2      0        742      0       727      23408   \n",
       "1        0             0     10          1      0         0        899   \n",
       "2        0             0      0          0      0       181        547   \n",
       "3        0           496     16          0      0       185       4524   \n",
       "4        0             0      0          0      0         6         63   \n",
       "\n",
       "   DISTANCIA  \n",
       "0     185.92  \n",
       "1     256.18  \n",
       "2     164.96  \n",
       "3     145.51  \n",
       "4     174.80  "
      ]
     },
     "execution_count": 61,
     "metadata": {},
     "output_type": "execute_result"
    }
   ],
   "source": [
    "internet_mapa.head()"
   ]
  },
  {
   "cell_type": "markdown",
   "metadata": {},
   "source": [
    "* guardar como csv"
   ]
  },
  {
   "cell_type": "code",
   "execution_count": 62,
   "metadata": {},
   "outputs": [],
   "source": [
    "\n",
    "internet_mapa.to_csv(r'mapa_internet.csv',index=False)"
   ]
  },
  {
   "cell_type": "markdown",
   "metadata": {},
   "source": [
    "## 2. EDA del dataset internet mapa\n",
    "\n",
    "* Resultado del último merge del ETL"
   ]
  },
  {
   "cell_type": "code",
   "execution_count": 63,
   "metadata": {},
   "outputs": [],
   "source": [
    "df_internet = pd.read_csv(r'mapa_internet.csv', sep=',')"
   ]
  },
  {
   "cell_type": "markdown",
   "metadata": {},
   "source": [
    "* Verificar datos y col"
   ]
  },
  {
   "cell_type": "code",
   "execution_count": 64,
   "metadata": {},
   "outputs": [
    {
     "name": "stdout",
     "output_type": "stream",
     "text": [
      "<class 'pandas.core.frame.DataFrame'>\n",
      "RangeIndex: 2952 entries, 0 to 2951\n",
      "Data columns (total 13 columns):\n",
      " #   Column        Non-Null Count  Dtype  \n",
      "---  ------        --------------  -----  \n",
      " 0   PROVINCIA     2952 non-null   object \n",
      " 1   PARTIDO       2952 non-null   object \n",
      " 2   LOCALIDAD     2952 non-null   object \n",
      " 3   ADSL          2952 non-null   int64  \n",
      " 4   CABLEMODEM    2952 non-null   int64  \n",
      " 5   DIAL_UP       2952 non-null   int64  \n",
      " 6   FIBRA_OPTICA  2952 non-null   int64  \n",
      " 7   OTROS         2952 non-null   int64  \n",
      " 8   SATELITAL     2952 non-null   int64  \n",
      " 9   WIMAX         2952 non-null   int64  \n",
      " 10  WIRELESS      2952 non-null   int64  \n",
      " 11  POBLACION     2952 non-null   int64  \n",
      " 12  DISTANCIA     2952 non-null   float64\n",
      "dtypes: float64(1), int64(9), object(3)\n",
      "memory usage: 299.9+ KB\n"
     ]
    }
   ],
   "source": [
    "\n",
    "df_internet.info()"
   ]
  },
  {
   "cell_type": "markdown",
   "metadata": {},
   "source": [
    "**_Como ya hicimos un ETL vemos que no quedan valores nulos y tambien hemos eliminado los duplicados_**\n",
    "\n",
    "## 2.1 Tipos de Variables\n",
    "Con respecto al tipo de variable tenemos:\n",
    "\n",
    "* **Categóricas**: provincia, partido y localidad\n",
    "* **Numericas**: todas las demás"
   ]
  },
  {
   "cell_type": "markdown",
   "metadata": {},
   "source": [
    "Veamos la correlacion entre las variables cuantitativas "
   ]
  },
  {
   "cell_type": "code",
   "execution_count": 66,
   "metadata": {},
   "outputs": [
    {
     "data": {
      "image/png": "[encoded data removed]",
      "text/plain": [
       "<Figure size 1500x600 with 2 Axes>"
      ]
     },
     "metadata": {},
     "output_type": "display_data"
    }
   ],
   "source": [
    "\n",
    "plt.figure(figsize=(15,6))\n",
    "corr = df_internet[['ADSL','CABLEMODEM','DIAL_UP','FIBRA_OPTICA','OTROS','SATELITAL','WIMAX','WIRELESS','POBLACION','DISTANCIA']]\n",
    "corr = corr.corr()\n",
    "sns.heatmap(corr, annot=True, fmt= '.2f')\n",
    "plt.title('Mapa de Calor de Correlaciones')\n",
    "plt.show()"
   ]
  },
  {
   "cell_type": "markdown",
   "metadata": {},
   "source": [
    "## 2.2 Estudio de la correlación\n",
    "#### Se observa:\n",
    "\n",
    "Hay una correlación entre la poblacion y las tecnologias de fibra óptica, cablemodem y adsl\n",
    "\n",
    "**podriamos analizar el promedio poblacional que tienen una cantidad de conexiones igual o superior a la media**\n",
    "\n",
    "La distancia al centro de la capital no señala ninguna correlacion con ninguna de las tecnologías"
   ]
  },
  {
   "cell_type": "code",
   "execution_count": 50,
   "metadata": {},
   "outputs": [
    {
     "data": {
      "text/html": [
       "<div>\n",
       "<style scoped>\n",
       "    .dataframe tbody tr th:only-of-type {\n",
       "        vertical-align: middle;\n",
       "    }\n",
       "\n",
       "    .dataframe tbody tr th {\n",
       "        vertical-align: top;\n",
       "    }\n",
       "\n",
       "    .dataframe thead th {\n",
       "        text-align: right;\n",
       "    }\n",
       "</style>\n",
       "<table border=\"1\" class=\"dataframe\">\n",
       "  <thead>\n",
       "    <tr style=\"text-align: right;\">\n",
       "      <th></th>\n",
       "      <th>Totales</th>\n",
       "    </tr>\n",
       "  </thead>\n",
       "  <tbody>\n",
       "    <tr>\n",
       "      <th>CABLEMODEM</th>\n",
       "      <td>5927825</td>\n",
       "    </tr>\n",
       "    <tr>\n",
       "      <th>FIBRA_OPTICA</th>\n",
       "      <td>3985190</td>\n",
       "    </tr>\n",
       "    <tr>\n",
       "      <th>ADSL</th>\n",
       "      <td>765622</td>\n",
       "    </tr>\n",
       "    <tr>\n",
       "      <th>WIRELESS</th>\n",
       "      <td>591337</td>\n",
       "    </tr>\n",
       "    <tr>\n",
       "      <th>OTROS</th>\n",
       "      <td>197508</td>\n",
       "    </tr>\n",
       "    <tr>\n",
       "      <th>DIAL_UP</th>\n",
       "      <td>11646</td>\n",
       "    </tr>\n",
       "    <tr>\n",
       "      <th>SATELITAL</th>\n",
       "      <td>2806</td>\n",
       "    </tr>\n",
       "    <tr>\n",
       "      <th>WIMAX</th>\n",
       "      <td>1744</td>\n",
       "    </tr>\n",
       "  </tbody>\n",
       "</table>\n",
       "</div>"
      ],
      "text/plain": [
       "              Totales\n",
       "CABLEMODEM    5927825\n",
       "FIBRA_OPTICA  3985190\n",
       "ADSL           765622\n",
       "WIRELESS       591337\n",
       "OTROS          197508\n",
       "DIAL_UP         11646\n",
       "SATELITAL        2806\n",
       "WIMAX            1744"
      ]
     },
     "execution_count": 50,
     "metadata": {},
     "output_type": "execute_result"
    }
   ],
   "source": [
    "cols = df_internet.columns.values[3:11]\n",
    "data = []\n",
    "for x in cols:    \n",
    "    data.append(df_internet[x].sum())            \n",
    "df_sumas = pd.DataFrame(data,cols,columns=['Totales']).sort_values(by='Totales', ascending=False)\n",
    "df_sumas"
   ]
  },
  {
   "cell_type": "code",
   "execution_count": 51,
   "metadata": {},
   "outputs": [
    {
     "data": {
      "image/png": "[encoded data removed]",
      "text/plain": [
       "<Figure size 1500x600 with 1 Axes>"
      ]
     },
     "metadata": {},
     "output_type": "display_data"
    }
   ],
   "source": [
    "total = df_sumas['Totales'].sum()\n",
    "plt.figure(figsize=(15,6))\n",
    "ax = sns.barplot(data=df_sumas['Totales'])\n",
    "#bars = ax.bar_label(ax.containers[0])\n",
    "bars = ax.containers[0]\n",
    "ax.bar_label(bars, labels=[f'{value/1000:.0f} ({value/total:.0%})' for value in bars.datavalues])\n",
    "plt.title('Conexiones Totales por Tecnología (en miles)')\n",
    "plt.xlabel('Tecnología')\n",
    "plt.ylabel('Frecuencia')\n",
    "plt.show()"
   ]
  },
  {
   "cell_type": "markdown",
   "metadata": {},
   "source": [
    "## 2.3 Frecuencia de cada tecnología a nivel Pais\n",
    "### Se observa claramente que las tecnologías predominantes son Cable Módem y Fibra Óptica con el 87% de las conexiones"
   ]
  },
  {
   "cell_type": "code",
   "execution_count": 52,
   "metadata": {},
   "outputs": [
    {
     "data": {
      "text/html": [
       "<div>\n",
       "<style scoped>\n",
       "    .dataframe tbody tr th:only-of-type {\n",
       "        vertical-align: middle;\n",
       "    }\n",
       "\n",
       "    .dataframe tbody tr th {\n",
       "        vertical-align: top;\n",
       "    }\n",
       "\n",
       "    .dataframe thead th {\n",
       "        text-align: right;\n",
       "    }\n",
       "</style>\n",
       "<table border=\"1\" class=\"dataframe\">\n",
       "  <thead>\n",
       "    <tr style=\"text-align: right;\">\n",
       "      <th></th>\n",
       "      <th>ADSL</th>\n",
       "      <th>CABLEMODEM</th>\n",
       "      <th>DIAL_UP</th>\n",
       "      <th>FIBRA_OPTICA</th>\n",
       "      <th>OTROS</th>\n",
       "      <th>SATELITAL</th>\n",
       "      <th>WIMAX</th>\n",
       "      <th>WIRELESS</th>\n",
       "      <th>POBLACION</th>\n",
       "      <th>Total</th>\n",
       "      <th>Cobertura</th>\n",
       "    </tr>\n",
       "    <tr>\n",
       "      <th>PROVINCIA</th>\n",
       "      <th></th>\n",
       "      <th></th>\n",
       "      <th></th>\n",
       "      <th></th>\n",
       "      <th></th>\n",
       "      <th></th>\n",
       "      <th></th>\n",
       "      <th></th>\n",
       "      <th></th>\n",
       "      <th></th>\n",
       "      <th></th>\n",
       "    </tr>\n",
       "  </thead>\n",
       "  <tbody>\n",
       "    <tr>\n",
       "      <th>CABA</th>\n",
       "      <td>70108</td>\n",
       "      <td>1177475</td>\n",
       "      <td>2050</td>\n",
       "      <td>203756</td>\n",
       "      <td>46762</td>\n",
       "      <td>67</td>\n",
       "      <td>0</td>\n",
       "      <td>4493</td>\n",
       "      <td>2890151</td>\n",
       "      <td>1504711</td>\n",
       "      <td>0.520634</td>\n",
       "    </tr>\n",
       "    <tr>\n",
       "      <th>TIERRA DEL FUEGO</th>\n",
       "      <td>9357</td>\n",
       "      <td>48005</td>\n",
       "      <td>305</td>\n",
       "      <td>3684</td>\n",
       "      <td>4</td>\n",
       "      <td>23</td>\n",
       "      <td>0</td>\n",
       "      <td>177</td>\n",
       "      <td>125823</td>\n",
       "      <td>61555</td>\n",
       "      <td>0.489219</td>\n",
       "    </tr>\n",
       "    <tr>\n",
       "      <th>LA PAMPA</th>\n",
       "      <td>6844</td>\n",
       "      <td>59007</td>\n",
       "      <td>162</td>\n",
       "      <td>35556</td>\n",
       "      <td>872</td>\n",
       "      <td>72</td>\n",
       "      <td>0</td>\n",
       "      <td>19681</td>\n",
       "      <td>302065</td>\n",
       "      <td>122194</td>\n",
       "      <td>0.404529</td>\n",
       "    </tr>\n",
       "    <tr>\n",
       "      <th>SAN LUIS</th>\n",
       "      <td>4038</td>\n",
       "      <td>41260</td>\n",
       "      <td>165</td>\n",
       "      <td>31539</td>\n",
       "      <td>0</td>\n",
       "      <td>34</td>\n",
       "      <td>0</td>\n",
       "      <td>78954</td>\n",
       "      <td>409796</td>\n",
       "      <td>155990</td>\n",
       "      <td>0.380653</td>\n",
       "    </tr>\n",
       "    <tr>\n",
       "      <th>CHUBUT</th>\n",
       "      <td>26306</td>\n",
       "      <td>77217</td>\n",
       "      <td>857</td>\n",
       "      <td>26356</td>\n",
       "      <td>8906</td>\n",
       "      <td>153</td>\n",
       "      <td>0</td>\n",
       "      <td>30867</td>\n",
       "      <td>484354</td>\n",
       "      <td>170662</td>\n",
       "      <td>0.352350</td>\n",
       "    </tr>\n",
       "    <tr>\n",
       "      <th>CORDOBA</th>\n",
       "      <td>102812</td>\n",
       "      <td>448841</td>\n",
       "      <td>63</td>\n",
       "      <td>458852</td>\n",
       "      <td>8753</td>\n",
       "      <td>95</td>\n",
       "      <td>71</td>\n",
       "      <td>59249</td>\n",
       "      <td>3089299</td>\n",
       "      <td>1078736</td>\n",
       "      <td>0.349185</td>\n",
       "    </tr>\n",
       "    <tr>\n",
       "      <th>BUENOS AIRES</th>\n",
       "      <td>195039</td>\n",
       "      <td>2732476</td>\n",
       "      <td>5753</td>\n",
       "      <td>1770222</td>\n",
       "      <td>66766</td>\n",
       "      <td>1042</td>\n",
       "      <td>1238</td>\n",
       "      <td>145698</td>\n",
       "      <td>14488589</td>\n",
       "      <td>4918234</td>\n",
       "      <td>0.339456</td>\n",
       "    </tr>\n",
       "    <tr>\n",
       "      <th>NEUQUEN</th>\n",
       "      <td>24076</td>\n",
       "      <td>73298</td>\n",
       "      <td>439</td>\n",
       "      <td>41577</td>\n",
       "      <td>183</td>\n",
       "      <td>131</td>\n",
       "      <td>152</td>\n",
       "      <td>24387</td>\n",
       "      <td>520280</td>\n",
       "      <td>164243</td>\n",
       "      <td>0.315682</td>\n",
       "    </tr>\n",
       "    <tr>\n",
       "      <th>SANTA FE</th>\n",
       "      <td>86548</td>\n",
       "      <td>399817</td>\n",
       "      <td>106</td>\n",
       "      <td>374288</td>\n",
       "      <td>10952</td>\n",
       "      <td>106</td>\n",
       "      <td>0</td>\n",
       "      <td>44138</td>\n",
       "      <td>3042314</td>\n",
       "      <td>915955</td>\n",
       "      <td>0.301072</td>\n",
       "    </tr>\n",
       "    <tr>\n",
       "      <th>SANTA CRUZ</th>\n",
       "      <td>7768</td>\n",
       "      <td>14435</td>\n",
       "      <td>187</td>\n",
       "      <td>49545</td>\n",
       "      <td>406</td>\n",
       "      <td>68</td>\n",
       "      <td>0</td>\n",
       "      <td>7799</td>\n",
       "      <td>266539</td>\n",
       "      <td>80208</td>\n",
       "      <td>0.300924</td>\n",
       "    </tr>\n",
       "  </tbody>\n",
       "</table>\n",
       "</div>"
      ],
      "text/plain": [
       "                    ADSL  CABLEMODEM  DIAL_UP  FIBRA_OPTICA  OTROS  SATELITAL  \\\n",
       "PROVINCIA                                                                       \n",
       "CABA               70108     1177475     2050        203756  46762         67   \n",
       "TIERRA DEL FUEGO    9357       48005      305          3684      4         23   \n",
       "LA PAMPA            6844       59007      162         35556    872         72   \n",
       "SAN LUIS            4038       41260      165         31539      0         34   \n",
       "CHUBUT             26306       77217      857         26356   8906        153   \n",
       "CORDOBA           102812      448841       63        458852   8753         95   \n",
       "BUENOS AIRES      195039     2732476     5753       1770222  66766       1042   \n",
       "NEUQUEN            24076       73298      439         41577    183        131   \n",
       "SANTA FE           86548      399817      106        374288  10952        106   \n",
       "SANTA CRUZ          7768       14435      187         49545    406         68   \n",
       "\n",
       "                  WIMAX  WIRELESS  POBLACION    Total  Cobertura  \n",
       "PROVINCIA                                                         \n",
       "CABA                  0      4493    2890151  1504711   0.520634  \n",
       "TIERRA DEL FUEGO      0       177     125823    61555   0.489219  \n",
       "LA PAMPA              0     19681     302065   122194   0.404529  \n",
       "SAN LUIS              0     78954     409796   155990   0.380653  \n",
       "CHUBUT                0     30867     484354   170662   0.352350  \n",
       "CORDOBA              71     59249    3089299  1078736   0.349185  \n",
       "BUENOS AIRES       1238    145698   14488589  4918234   0.339456  \n",
       "NEUQUEN             152     24387     520280   164243   0.315682  \n",
       "SANTA FE              0     44138    3042314   915955   0.301072  \n",
       "SANTA CRUZ            0      7799     266539    80208   0.300924  "
      ]
     },
     "execution_count": 52,
     "metadata": {},
     "output_type": "execute_result"
    }
   ],
   "source": [
    "#estudiaremos la relacion entre la cantidad de conexion y la poblacion total\n",
    "provincia = df_internet.groupby('PROVINCIA').agg({'ADSL':'sum','CABLEMODEM':'sum','DIAL_UP':'sum','FIBRA_OPTICA':'sum','OTROS':'sum','SATELITAL':'sum','WIMAX':'sum','WIRELESS':'sum','POBLACION':'sum'})\n",
    "p = provincia.drop(columns=['POBLACION'])\n",
    "p = p.sum(axis=1)\n",
    "provincia['Total'] = p\n",
    "provincia['Cobertura'] = p.div(provincia['POBLACION'])\n",
    "provincia.sort_values(by='Cobertura', ascending=False, inplace=True)\n",
    "provincia.head(10)\n"
   ]
  },
  {
   "cell_type": "code",
   "execution_count": 53,
   "metadata": {},
   "outputs": [
    {
     "data": {
      "image/png": "[encoded data removed]",
      "text/plain": [
       "<Figure size 1500x600 with 1 Axes>"
      ]
     },
     "metadata": {},
     "output_type": "display_data"
    }
   ],
   "source": [
    "\n",
    "plt.figure(figsize=(15,6))\n",
    "ax = sns.barplot(data=provincia[:10]['Cobertura'])\n",
    "#bars = ax.bar_label(ax.containers[0])\n",
    "bars = ax.containers[0]\n",
    "ax.bar_label(bars, labels=[f'{value:.2%})' for value in bars.datavalues])\n",
    "plt.title('Relación Conexiones / Población')\n",
    "plt.xlabel('Provincias')\n",
    "plt.ylabel('Cobertura')\n",
    "plt.xticks(rotation= 30, ha='right')\n",
    "plt.show()"
   ]
  },
  {
   "cell_type": "markdown",
   "metadata": {},
   "source": [
    "## 2.4 Relación entre conexiones y población por provincia\n",
    "### Se observan las provincias que mayor relacion presentan entre cantidad de conexiones y su poblacion, apenas una llega al 50% Se podria pensar que hay mucho por desarrollar"
   ]
  },
  {
   "cell_type": "code",
   "execution_count": 54,
   "metadata": {},
   "outputs": [
    {
     "data": {
      "text/html": [
       "<div>\n",
       "<style scoped>\n",
       "    .dataframe tbody tr th:only-of-type {\n",
       "        vertical-align: middle;\n",
       "    }\n",
       "\n",
       "    .dataframe tbody tr th {\n",
       "        vertical-align: top;\n",
       "    }\n",
       "\n",
       "    .dataframe thead th {\n",
       "        text-align: right;\n",
       "    }\n",
       "</style>\n",
       "<table border=\"1\" class=\"dataframe\">\n",
       "  <thead>\n",
       "    <tr style=\"text-align: right;\">\n",
       "      <th></th>\n",
       "      <th></th>\n",
       "      <th>ADSL</th>\n",
       "      <th>CABLEMODEM</th>\n",
       "      <th>DIAL_UP</th>\n",
       "      <th>FIBRA_OPTICA</th>\n",
       "      <th>OTROS</th>\n",
       "      <th>SATELITAL</th>\n",
       "      <th>WIMAX</th>\n",
       "      <th>WIRELESS</th>\n",
       "      <th>Total</th>\n",
       "    </tr>\n",
       "    <tr>\n",
       "      <th>PROVINCIA</th>\n",
       "      <th>PARTIDO</th>\n",
       "      <th></th>\n",
       "      <th></th>\n",
       "      <th></th>\n",
       "      <th></th>\n",
       "      <th></th>\n",
       "      <th></th>\n",
       "      <th></th>\n",
       "      <th></th>\n",
       "      <th></th>\n",
       "    </tr>\n",
       "  </thead>\n",
       "  <tbody>\n",
       "    <tr>\n",
       "      <th>CABA</th>\n",
       "      <th>COMUNA 14</th>\n",
       "      <td>70108</td>\n",
       "      <td>1177475</td>\n",
       "      <td>2050</td>\n",
       "      <td>203756</td>\n",
       "      <td>46762</td>\n",
       "      <td>67</td>\n",
       "      <td>0</td>\n",
       "      <td>4493</td>\n",
       "      <td>1504711</td>\n",
       "    </tr>\n",
       "    <tr>\n",
       "      <th>CORDOBA</th>\n",
       "      <th>CAPITAL</th>\n",
       "      <td>28677</td>\n",
       "      <td>206084</td>\n",
       "      <td>42</td>\n",
       "      <td>281390</td>\n",
       "      <td>1218</td>\n",
       "      <td>11</td>\n",
       "      <td>0</td>\n",
       "      <td>4356</td>\n",
       "      <td>521778</td>\n",
       "    </tr>\n",
       "    <tr>\n",
       "      <th>SANTA FE</th>\n",
       "      <th>ROSARIO</th>\n",
       "      <td>14611</td>\n",
       "      <td>185833</td>\n",
       "      <td>72</td>\n",
       "      <td>197989</td>\n",
       "      <td>1041</td>\n",
       "      <td>9</td>\n",
       "      <td>0</td>\n",
       "      <td>7260</td>\n",
       "      <td>406815</td>\n",
       "    </tr>\n",
       "    <tr>\n",
       "      <th rowspan=\"3\" valign=\"top\">BUENOS AIRES</th>\n",
       "      <th>LA MATANZA</th>\n",
       "      <td>5611</td>\n",
       "      <td>242890</td>\n",
       "      <td>320</td>\n",
       "      <td>114159</td>\n",
       "      <td>8100</td>\n",
       "      <td>11</td>\n",
       "      <td>0</td>\n",
       "      <td>5954</td>\n",
       "      <td>377045</td>\n",
       "    </tr>\n",
       "    <tr>\n",
       "      <th>GENERAL PUEYRREDÓN</th>\n",
       "      <td>11953</td>\n",
       "      <td>115206</td>\n",
       "      <td>512</td>\n",
       "      <td>156890</td>\n",
       "      <td>469</td>\n",
       "      <td>8</td>\n",
       "      <td>0</td>\n",
       "      <td>4127</td>\n",
       "      <td>289165</td>\n",
       "    </tr>\n",
       "    <tr>\n",
       "      <th>LA PLATA</th>\n",
       "      <td>7664</td>\n",
       "      <td>199327</td>\n",
       "      <td>517</td>\n",
       "      <td>67925</td>\n",
       "      <td>4026</td>\n",
       "      <td>10</td>\n",
       "      <td>0</td>\n",
       "      <td>5541</td>\n",
       "      <td>285010</td>\n",
       "    </tr>\n",
       "    <tr>\n",
       "      <th>TUCUMAN</th>\n",
       "      <th>CAPITAL</th>\n",
       "      <td>22302</td>\n",
       "      <td>19719</td>\n",
       "      <td>27</td>\n",
       "      <td>149883</td>\n",
       "      <td>338</td>\n",
       "      <td>15</td>\n",
       "      <td>0</td>\n",
       "      <td>373</td>\n",
       "      <td>192657</td>\n",
       "    </tr>\n",
       "    <tr>\n",
       "      <th rowspan=\"3\" valign=\"top\">BUENOS AIRES</th>\n",
       "      <th>LOMAS DE ZAMORA</th>\n",
       "      <td>495</td>\n",
       "      <td>132425</td>\n",
       "      <td>257</td>\n",
       "      <td>47188</td>\n",
       "      <td>2831</td>\n",
       "      <td>5</td>\n",
       "      <td>0</td>\n",
       "      <td>3316</td>\n",
       "      <td>186517</td>\n",
       "    </tr>\n",
       "    <tr>\n",
       "      <th>QUILMES</th>\n",
       "      <td>160</td>\n",
       "      <td>116534</td>\n",
       "      <td>212</td>\n",
       "      <td>54422</td>\n",
       "      <td>2390</td>\n",
       "      <td>3</td>\n",
       "      <td>0</td>\n",
       "      <td>690</td>\n",
       "      <td>174411</td>\n",
       "    </tr>\n",
       "    <tr>\n",
       "      <th>ALMIRANTE BROWN</th>\n",
       "      <td>174</td>\n",
       "      <td>98859</td>\n",
       "      <td>148</td>\n",
       "      <td>71086</td>\n",
       "      <td>521</td>\n",
       "      <td>6</td>\n",
       "      <td>0</td>\n",
       "      <td>739</td>\n",
       "      <td>171533</td>\n",
       "    </tr>\n",
       "  </tbody>\n",
       "</table>\n",
       "</div>"
      ],
      "text/plain": [
       "                                  ADSL  CABLEMODEM  DIAL_UP  FIBRA_OPTICA  \\\n",
       "PROVINCIA    PARTIDO                                                        \n",
       "CABA         COMUNA 14           70108     1177475     2050        203756   \n",
       "CORDOBA      CAPITAL             28677      206084       42        281390   \n",
       "SANTA FE     ROSARIO             14611      185833       72        197989   \n",
       "BUENOS AIRES LA MATANZA           5611      242890      320        114159   \n",
       "             GENERAL PUEYRREDÓN  11953      115206      512        156890   \n",
       "             LA PLATA             7664      199327      517         67925   \n",
       "TUCUMAN      CAPITAL             22302       19719       27        149883   \n",
       "BUENOS AIRES LOMAS DE ZAMORA       495      132425      257         47188   \n",
       "             QUILMES               160      116534      212         54422   \n",
       "             ALMIRANTE BROWN       174       98859      148         71086   \n",
       "\n",
       "                                 OTROS  SATELITAL  WIMAX  WIRELESS    Total  \n",
       "PROVINCIA    PARTIDO                                                         \n",
       "CABA         COMUNA 14           46762         67      0      4493  1504711  \n",
       "CORDOBA      CAPITAL              1218         11      0      4356   521778  \n",
       "SANTA FE     ROSARIO              1041          9      0      7260   406815  \n",
       "BUENOS AIRES LA MATANZA           8100         11      0      5954   377045  \n",
       "             GENERAL PUEYRREDÓN    469          8      0      4127   289165  \n",
       "             LA PLATA             4026         10      0      5541   285010  \n",
       "TUCUMAN      CAPITAL               338         15      0       373   192657  \n",
       "BUENOS AIRES LOMAS DE ZAMORA      2831          5      0      3316   186517  \n",
       "             QUILMES              2390          3      0       690   174411  \n",
       "             ALMIRANTE BROWN       521          6      0       739   171533  "
      ]
     },
     "execution_count": 54,
     "metadata": {},
     "output_type": "execute_result"
    }
   ],
   "source": [
    "''' Sumarizo las conexiones agrupandolas por partido\n",
    "'''\n",
    "partido = df_internet.groupby(['PROVINCIA','PARTIDO']).agg({'ADSL':'sum','CABLEMODEM':'sum','DIAL_UP':'sum','FIBRA_OPTICA':'sum','OTROS':'sum','SATELITAL':'sum','WIMAX':'sum','WIRELESS':'sum'})\n",
    "\n",
    "partido['Total'] = partido.sum(axis=1)\n",
    "\n",
    "partido.sort_values(by='Total', ascending=False, inplace=True)\n",
    "partido[:10]"
   ]
  },
  {
   "cell_type": "code",
   "execution_count": 55,
   "metadata": {},
   "outputs": [
    {
     "data": {
      "text/html": [
       "<style type=\"text/css\">\n",
       "</style>\n",
       "<table id=\"T_14cc4\">\n",
       "  <thead>\n",
       "    <tr>\n",
       "      <th class=\"blank level0\" >&nbsp;</th>\n",
       "      <th id=\"T_14cc4_level0_col0\" class=\"col_heading level0 col0\" >Area</th>\n",
       "      <th id=\"T_14cc4_level0_col1\" class=\"col_heading level0 col1\" >Min</th>\n",
       "      <th id=\"T_14cc4_level0_col2\" class=\"col_heading level0 col2\" >25%</th>\n",
       "      <th id=\"T_14cc4_level0_col3\" class=\"col_heading level0 col3\" >Mediana</th>\n",
       "      <th id=\"T_14cc4_level0_col4\" class=\"col_heading level0 col4\" >75%</th>\n",
       "      <th id=\"T_14cc4_level0_col5\" class=\"col_heading level0 col5\" >Max</th>\n",
       "      <th id=\"T_14cc4_level0_col6\" class=\"col_heading level0 col6\" >Promedio</th>\n",
       "      <th id=\"T_14cc4_level0_col7\" class=\"col_heading level0 col7\" >Moda</th>\n",
       "      <th id=\"T_14cc4_level0_col8\" class=\"col_heading level0 col8\" >Desvío E.</th>\n",
       "      <th id=\"T_14cc4_level0_col9\" class=\"col_heading level0 col9\" >Coef. Var (%)</th>\n",
       "    </tr>\n",
       "  </thead>\n",
       "  <tbody>\n",
       "    <tr>\n",
       "      <th id=\"T_14cc4_level0_row0\" class=\"row_heading level0 row0\" >0</th>\n",
       "      <td id=\"T_14cc4_row0_col0\" class=\"data row0 col0\" >Localidad</td>\n",
       "      <td id=\"T_14cc4_row0_col1\" class=\"data row0 col1\" >1</td>\n",
       "      <td id=\"T_14cc4_row0_col2\" class=\"data row0 col2\" >29.75</td>\n",
       "      <td id=\"T_14cc4_row0_col3\" class=\"data row0 col3\" >170.50</td>\n",
       "      <td id=\"T_14cc4_row0_col4\" class=\"data row0 col4\" >1058.00</td>\n",
       "      <td id=\"T_14cc4_row0_col5\" class=\"data row0 col5\" >1504711</td>\n",
       "      <td id=\"T_14cc4_row0_col6\" class=\"data row0 col6\" >3890.13</td>\n",
       "      <td id=\"T_14cc4_row0_col7\" class=\"data row0 col7\" >1</td>\n",
       "      <td id=\"T_14cc4_row0_col8\" class=\"data row0 col8\" >32370.64</td>\n",
       "      <td id=\"T_14cc4_row0_col9\" class=\"data row0 col9\" >12.02</td>\n",
       "    </tr>\n",
       "    <tr>\n",
       "      <th id=\"T_14cc4_level0_row1\" class=\"row_heading level0 row1\" >1</th>\n",
       "      <td id=\"T_14cc4_row1_col0\" class=\"data row1 col0\" >Partido</td>\n",
       "      <td id=\"T_14cc4_row1_col1\" class=\"data row1 col1\" >1</td>\n",
       "      <td id=\"T_14cc4_row1_col2\" class=\"data row1 col2\" >633.00</td>\n",
       "      <td id=\"T_14cc4_row1_col3\" class=\"data row1 col3\" >3185.00</td>\n",
       "      <td id=\"T_14cc4_row1_col4\" class=\"data row1 col4\" >13135.50</td>\n",
       "      <td id=\"T_14cc4_row1_col5\" class=\"data row1 col5\" >1504711</td>\n",
       "      <td id=\"T_14cc4_row1_col6\" class=\"data row1 col6\" >22472.95</td>\n",
       "      <td id=\"T_14cc4_row1_col7\" class=\"data row1 col7\" >4</td>\n",
       "      <td id=\"T_14cc4_row1_col8\" class=\"data row1 col8\" >81741.12</td>\n",
       "      <td id=\"T_14cc4_row1_col9\" class=\"data row1 col9\" >27.49</td>\n",
       "    </tr>\n",
       "    <tr>\n",
       "      <th id=\"T_14cc4_level0_row2\" class=\"row_heading level0 row2\" >2</th>\n",
       "      <td id=\"T_14cc4_row2_col0\" class=\"data row2 col0\" >Provincia</td>\n",
       "      <td id=\"T_14cc4_row2_col1\" class=\"data row2 col1\" >61555</td>\n",
       "      <td id=\"T_14cc4_row2_col2\" class=\"data row2 col2\" >114136.00</td>\n",
       "      <td id=\"T_14cc4_row2_col3\" class=\"data row2 col3\" >161052.50</td>\n",
       "      <td id=\"T_14cc4_row2_col4\" class=\"data row2 col4\" >270179.50</td>\n",
       "      <td id=\"T_14cc4_row2_col5\" class=\"data row2 col5\" >4918234</td>\n",
       "      <td id=\"T_14cc4_row2_col6\" class=\"data row2 col6\" >478486.58</td>\n",
       "      <td id=\"T_14cc4_row2_col7\" class=\"data row2 col7\" >61555</td>\n",
       "      <td id=\"T_14cc4_row2_col8\" class=\"data row2 col8\" >1011385.07</td>\n",
       "      <td id=\"T_14cc4_row2_col9\" class=\"data row2 col9\" >47.31</td>\n",
       "    </tr>\n",
       "  </tbody>\n",
       "</table>\n"
      ],
      "text/plain": [
       "<pandas.io.formats.style.Styler at 0x7df3c8d1afe0>"
      ]
     },
     "execution_count": 55,
     "metadata": {},
     "output_type": "execute_result"
    }
   ],
   "source": [
    "''' \n",
    "Ya tengo los datos sumarizados por provincia y por localidad, analizo las principales medidas de tendencia central\n",
    "'''\n",
    "\n",
    "df_internet['Total'] = df_internet.iloc[:,np.arange(3,11)].sum(axis=1)\n",
    "df_internet.sort_values(by='Total', ascending=False, inplace=True)\n",
    "\n",
    "data = []\n",
    "l = df_internet['Total']\n",
    "pa = partido['Total']\n",
    "p = provincia['Total']\n",
    "\n",
    "data.append(['Localidad',l.min(),l.quantile(0.25),l.median(),l.quantile(0.75) ,l.max(),l.mean(),l.mode()[0],l.std(),l.mean()/l.std()*100])\n",
    "data.append(['Partido',pa.min(),pa.quantile(0.25),pa.median(),pa.quantile(0.75),pa.max(),pa.mean(),pa.mode()[0],pa.std(),pa.mean()/pa.std()*100])\n",
    "data.append(['Provincia',p.min(),p.quantile(0.25),p.median(),p.quantile(0.75),p.max(),p.mean(),p.mode()[0],p.std(),p.mean()/p.std()*100])\n",
    "\n",
    "dist = pd.DataFrame(data,columns=['Area','Min','25%','Mediana','75%','Max','Promedio','Moda','Desvío E.','Coef. Var (%)'])\n",
    "dist.style.format(precision=2)\n"
   ]
  },
  {
   "cell_type": "markdown",
   "metadata": {},
   "source": [
    "## 2.5 Análisis de las medidas de tendencia central, segmentdas por Localidad, Partido y Provincia\n",
    "### Si bien los nodos de conexión, ya sea una antena, una central tiene una relacion de 1 a 1 con la localidad o bien 1 a n donde esos nodos se encuentran  relativamente cercanos, teniendo en cuenta el costo que implica interconectar nodos, es decir, es mucho menos costoso interconectar nodos, de modo que haya backup, redundancia, dentro de una localidad que dentro de una provincia. Este estudio pretende observar la distribucion de la cantidad de conexiones, por localidad, partido y provincia:\n",
    "* En todos los casos la dispersión es alta, 75% de las areas tienen menos conexión que el promedio\n",
    "* si observamos el coeficiente de variacion, la dispersion aumenta para partidos y provincias\n",
    "* Analizaremos el promedio de la poblacion de los percentile 70 a 80 para investigar si hay localidades con mayor poblacion y pocas conexiones"
   ]
  },
  {
   "cell_type": "code",
   "execution_count": 56,
   "metadata": {},
   "outputs": [
    {
     "name": "stdout",
     "output_type": "stream",
     "text": [
      "Límite inferior percentil de 70%: 673 conexiones\n",
      "Límite superior percentil de 80%: 1714 conexiones\n",
      "Poblacion promedio del rango: 6321 personas\n",
      "Cantidad de Localidades objetivo encontradas: 86\n",
      "5 mas Pobladas:\n"
     ]
    },
    {
     "data": {
      "text/html": [
       "<div>\n",
       "<style scoped>\n",
       "    .dataframe tbody tr th:only-of-type {\n",
       "        vertical-align: middle;\n",
       "    }\n",
       "\n",
       "    .dataframe tbody tr th {\n",
       "        vertical-align: top;\n",
       "    }\n",
       "\n",
       "    .dataframe thead th {\n",
       "        text-align: right;\n",
       "    }\n",
       "</style>\n",
       "<table border=\"1\" class=\"dataframe\">\n",
       "  <thead>\n",
       "    <tr style=\"text-align: right;\">\n",
       "      <th></th>\n",
       "      <th>PROVINCIA</th>\n",
       "      <th>PARTIDO</th>\n",
       "      <th>LOCALIDAD</th>\n",
       "      <th>ADSL</th>\n",
       "      <th>CABLEMODEM</th>\n",
       "      <th>DIAL_UP</th>\n",
       "      <th>FIBRA_OPTICA</th>\n",
       "      <th>OTROS</th>\n",
       "      <th>SATELITAL</th>\n",
       "      <th>WIMAX</th>\n",
       "      <th>WIRELESS</th>\n",
       "      <th>POBLACION</th>\n",
       "      <th>DISTANCIA</th>\n",
       "      <th>Total</th>\n",
       "    </tr>\n",
       "  </thead>\n",
       "  <tbody>\n",
       "    <tr>\n",
       "      <th>1753</th>\n",
       "      <td>MENDOZA</td>\n",
       "      <td>GUAYMALLÉN</td>\n",
       "      <td>LA PRIMAVERA</td>\n",
       "      <td>0</td>\n",
       "      <td>0</td>\n",
       "      <td>0</td>\n",
       "      <td>0</td>\n",
       "      <td>0</td>\n",
       "      <td>0</td>\n",
       "      <td>0</td>\n",
       "      <td>27</td>\n",
       "      <td>189067</td>\n",
       "      <td>965.51</td>\n",
       "      <td>27</td>\n",
       "    </tr>\n",
       "    <tr>\n",
       "      <th>2620</th>\n",
       "      <td>SANTA FE</td>\n",
       "      <td>ROSARIO</td>\n",
       "      <td>VILLA GOBERNADOR GÁLVEZ</td>\n",
       "      <td>0</td>\n",
       "      <td>17</td>\n",
       "      <td>0</td>\n",
       "      <td>9</td>\n",
       "      <td>0</td>\n",
       "      <td>0</td>\n",
       "      <td>0</td>\n",
       "      <td>39</td>\n",
       "      <td>80769</td>\n",
       "      <td>267.39</td>\n",
       "      <td>65</td>\n",
       "    </tr>\n",
       "    <tr>\n",
       "      <th>267</th>\n",
       "      <td>BUENOS AIRES</td>\n",
       "      <td>GENERAL SAN MARTÍN</td>\n",
       "      <td>CIUDAD JARDIN EL LIBERTADOR</td>\n",
       "      <td>0</td>\n",
       "      <td>5</td>\n",
       "      <td>0</td>\n",
       "      <td>0</td>\n",
       "      <td>0</td>\n",
       "      <td>0</td>\n",
       "      <td>0</td>\n",
       "      <td>0</td>\n",
       "      <td>63479</td>\n",
       "      <td>16.28</td>\n",
       "      <td>5</td>\n",
       "    </tr>\n",
       "    <tr>\n",
       "      <th>386</th>\n",
       "      <td>BUENOS AIRES</td>\n",
       "      <td>LOMAS DE ZAMORA</td>\n",
       "      <td>VILLA CENTENARIO</td>\n",
       "      <td>0</td>\n",
       "      <td>36</td>\n",
       "      <td>0</td>\n",
       "      <td>0</td>\n",
       "      <td>0</td>\n",
       "      <td>0</td>\n",
       "      <td>0</td>\n",
       "      <td>300</td>\n",
       "      <td>51834</td>\n",
       "      <td>17.25</td>\n",
       "      <td>336</td>\n",
       "    </tr>\n",
       "    <tr>\n",
       "      <th>284</th>\n",
       "      <td>BUENOS AIRES</td>\n",
       "      <td>HURLINGHAM</td>\n",
       "      <td>WILLIAM C. MORRIS</td>\n",
       "      <td>0</td>\n",
       "      <td>21</td>\n",
       "      <td>0</td>\n",
       "      <td>14</td>\n",
       "      <td>0</td>\n",
       "      <td>0</td>\n",
       "      <td>0</td>\n",
       "      <td>392</td>\n",
       "      <td>51471</td>\n",
       "      <td>21.61</td>\n",
       "      <td>427</td>\n",
       "    </tr>\n",
       "  </tbody>\n",
       "</table>\n",
       "</div>"
      ],
      "text/plain": [
       "         PROVINCIA             PARTIDO                    LOCALIDAD  ADSL  \\\n",
       "1753       MENDOZA          GUAYMALLÉN                 LA PRIMAVERA     0   \n",
       "2620      SANTA FE             ROSARIO      VILLA GOBERNADOR GÁLVEZ     0   \n",
       "267   BUENOS AIRES  GENERAL SAN MARTÍN  CIUDAD JARDIN EL LIBERTADOR     0   \n",
       "386   BUENOS AIRES     LOMAS DE ZAMORA             VILLA CENTENARIO     0   \n",
       "284   BUENOS AIRES          HURLINGHAM            WILLIAM C. MORRIS     0   \n",
       "\n",
       "      CABLEMODEM  DIAL_UP  FIBRA_OPTICA  OTROS  SATELITAL  WIMAX  WIRELESS  \\\n",
       "1753           0        0             0      0          0      0        27   \n",
       "2620          17        0             9      0          0      0        39   \n",
       "267            5        0             0      0          0      0         0   \n",
       "386           36        0             0      0          0      0       300   \n",
       "284           21        0            14      0          0      0       392   \n",
       "\n",
       "      POBLACION  DISTANCIA  Total  \n",
       "1753     189067     965.51     27  \n",
       "2620      80769     267.39     65  \n",
       "267       63479      16.28      5  \n",
       "386       51834      17.25    336  \n",
       "284       51471      21.61    427  "
      ]
     },
     "execution_count": 56,
     "metadata": {},
     "output_type": "execute_result"
    }
   ],
   "source": [
    "''' Calculo los percentiles de 70% y 80%\n",
    "'''\n",
    "l_inf = df_internet['Total'].quantile(0.7)\n",
    "l_sup = df_internet['Total'].quantile(0.8)\n",
    "loc_perc = df_internet[(df_internet['Total'] > l_inf) & (df_internet['Total'] < l_sup)]\n",
    "\n",
    "# Obtengo la poblacion promedio\n",
    "prom = loc_perc['POBLACION'].mean()\n",
    "\n",
    "#Obtengo las localidades muy pobladas con pocas conexiones\n",
    "loc_obj = df_internet[(df_internet['Total'] < l_inf) & (df_internet['POBLACION'] > prom)].sort_values(by='POBLACION', ascending=False)\n",
    "\n",
    "print(f\"Límite inferior percentil de 70%: {l_inf:.0f} conexiones\")\n",
    "print(f\"Límite superior percentil de 80%: {l_sup:.0f} conexiones\")\n",
    "print(f\"Poblacion promedio del rango: {prom:.0f} personas\")\n",
    "print(f\"Cantidad de Localidades objetivo encontradas: {loc_obj.shape[0]}\")\n",
    "print(\"5 mas Pobladas:\")\n",
    "loc_obj.head(5)\n"
   ]
  },
  {
   "cell_type": "markdown",
   "metadata": {},
   "source": [
    "## 2.6 Localidades objetivos en funcion del análisis del punto 2.5\n",
    "### Si tuviéramos una distribucion normal cualquier Localidad cuya población fuera superior a la poblacion promedio de las localidades que se encuentran en la media de la distribucion de las conexiones.\n",
    "### En base a lo observado en el punto anterior se toma como referencia rango de los percentiles 70 y 80 y se encuentran 86 localidades cuyas poblacion superan el promedio del percentil mencionado:\n",
    "\n",
    "* Serían localidades con mucha población y pocas conexiones, posibles candidatas para expandir el negocio"
   ]
  }
 ],
 "metadata": {
  "kernelspec": {
   "display_name": "Python 3",
   "language": "python",
   "name": "python3"
  },
  "language_info": {
   "codemirror_mode": {
    "name": "ipython",
    "version": 3
   },
   "file_extension": ".py",
   "mimetype": "text/x-python",
   "name": "python",
   "nbconvert_exporter": "python",
   "pygments_lexer": "ipython3",
   "version": "3.10.15"
  }
 },
 "nbformat": 4,
 "nbformat_minor": 2
}
